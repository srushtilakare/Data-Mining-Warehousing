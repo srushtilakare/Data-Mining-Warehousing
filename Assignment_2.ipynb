{
 "cells": [
  {
   "cell_type": "code",
   "execution_count": 4,
   "id": "eda75e00",
   "metadata": {},
   "outputs": [],
   "source": [
    "#Import required libraries\n",
    "import pandas as pd\n",
    "import matplotlib.pyplot as plt\n",
    "import seaborn as sns\n",
    "import numpy as np"
   ]
  },
  {
   "cell_type": "code",
   "execution_count": 6,
   "id": "e9f954f1",
   "metadata": {},
   "outputs": [],
   "source": [
    "# load the dataset\n",
    "df=pd.read_csv(\"heart_disease_dataset.csv\")"
   ]
  },
  {
   "cell_type": "code",
   "execution_count": 7,
   "id": "cec1f5a3",
   "metadata": {},
   "outputs": [
    {
     "data": {
      "text/html": [
       "<div>\n",
       "<style scoped>\n",
       "    .dataframe tbody tr th:only-of-type {\n",
       "        vertical-align: middle;\n",
       "    }\n",
       "\n",
       "    .dataframe tbody tr th {\n",
       "        vertical-align: top;\n",
       "    }\n",
       "\n",
       "    .dataframe thead th {\n",
       "        text-align: right;\n",
       "    }\n",
       "</style>\n",
       "<table border=\"1\" class=\"dataframe\">\n",
       "  <thead>\n",
       "    <tr style=\"text-align: right;\">\n",
       "      <th></th>\n",
       "      <th>Age</th>\n",
       "      <th>Sex</th>\n",
       "      <th>ChestPain</th>\n",
       "      <th>RestBP</th>\n",
       "      <th>Chol</th>\n",
       "      <th>Fbs</th>\n",
       "      <th>RestECG</th>\n",
       "      <th>MaxHR</th>\n",
       "      <th>ExAng</th>\n",
       "      <th>Oldpeak</th>\n",
       "      <th>Slope</th>\n",
       "      <th>Ca</th>\n",
       "      <th>Thal</th>\n",
       "      <th>AHD</th>\n",
       "    </tr>\n",
       "  </thead>\n",
       "  <tbody>\n",
       "    <tr>\n",
       "      <th>0</th>\n",
       "      <td>67</td>\n",
       "      <td>1</td>\n",
       "      <td>0</td>\n",
       "      <td>176</td>\n",
       "      <td>148</td>\n",
       "      <td>1</td>\n",
       "      <td>1</td>\n",
       "      <td>168</td>\n",
       "      <td>1</td>\n",
       "      <td>5.6</td>\n",
       "      <td>2</td>\n",
       "      <td>1</td>\n",
       "      <td>0</td>\n",
       "      <td>0</td>\n",
       "    </tr>\n",
       "    <tr>\n",
       "      <th>1</th>\n",
       "      <td>57</td>\n",
       "      <td>1</td>\n",
       "      <td>1</td>\n",
       "      <td>155</td>\n",
       "      <td>551</td>\n",
       "      <td>0</td>\n",
       "      <td>1</td>\n",
       "      <td>98</td>\n",
       "      <td>1</td>\n",
       "      <td>4.2</td>\n",
       "      <td>1</td>\n",
       "      <td>3</td>\n",
       "      <td>1</td>\n",
       "      <td>1</td>\n",
       "    </tr>\n",
       "    <tr>\n",
       "      <th>2</th>\n",
       "      <td>43</td>\n",
       "      <td>1</td>\n",
       "      <td>0</td>\n",
       "      <td>125</td>\n",
       "      <td>519</td>\n",
       "      <td>1</td>\n",
       "      <td>0</td>\n",
       "      <td>113</td>\n",
       "      <td>1</td>\n",
       "      <td>0.8</td>\n",
       "      <td>0</td>\n",
       "      <td>0</td>\n",
       "      <td>0</td>\n",
       "      <td>1</td>\n",
       "    </tr>\n",
       "    <tr>\n",
       "      <th>3</th>\n",
       "      <td>71</td>\n",
       "      <td>1</td>\n",
       "      <td>0</td>\n",
       "      <td>123</td>\n",
       "      <td>285</td>\n",
       "      <td>0</td>\n",
       "      <td>2</td>\n",
       "      <td>156</td>\n",
       "      <td>0</td>\n",
       "      <td>6.2</td>\n",
       "      <td>2</td>\n",
       "      <td>0</td>\n",
       "      <td>1</td>\n",
       "      <td>0</td>\n",
       "    </tr>\n",
       "    <tr>\n",
       "      <th>4</th>\n",
       "      <td>36</td>\n",
       "      <td>0</td>\n",
       "      <td>0</td>\n",
       "      <td>122</td>\n",
       "      <td>488</td>\n",
       "      <td>1</td>\n",
       "      <td>1</td>\n",
       "      <td>87</td>\n",
       "      <td>1</td>\n",
       "      <td>3.3</td>\n",
       "      <td>2</td>\n",
       "      <td>2</td>\n",
       "      <td>2</td>\n",
       "      <td>0</td>\n",
       "    </tr>\n",
       "  </tbody>\n",
       "</table>\n",
       "</div>"
      ],
      "text/plain": [
       "   Age  Sex  ChestPain  RestBP  Chol  Fbs  RestECG  MaxHR  ExAng  Oldpeak  \\\n",
       "0   67    1          0     176   148    1        1    168      1      5.6   \n",
       "1   57    1          1     155   551    0        1     98      1      4.2   \n",
       "2   43    1          0     125   519    1        0    113      1      0.8   \n",
       "3   71    1          0     123   285    0        2    156      0      6.2   \n",
       "4   36    0          0     122   488    1        1     87      1      3.3   \n",
       "\n",
       "   Slope  Ca  Thal  AHD  \n",
       "0      2   1     0    0  \n",
       "1      1   3     1    1  \n",
       "2      0   0     0    1  \n",
       "3      2   0     1    0  \n",
       "4      2   2     2    0  "
      ]
     },
     "execution_count": 7,
     "metadata": {},
     "output_type": "execute_result"
    }
   ],
   "source": [
    "# print 1st 5 rows\n",
    "df.head(5)"
   ]
  },
  {
   "cell_type": "code",
   "execution_count": 8,
   "id": "8e63c250",
   "metadata": {},
   "outputs": [
    {
     "data": {
      "text/plain": [
       "(500, 14)"
      ]
     },
     "execution_count": 8,
     "metadata": {},
     "output_type": "execute_result"
    }
   ],
   "source": [
    "#print shape of data\n",
    "df.shape"
   ]
  },
  {
   "cell_type": "markdown",
   "id": "b828e4ee",
   "metadata": {},
   "source": [
    "Description of each column:(14 features)\n",
    "\n",
    "1] Age: Age of the patient in years.\n",
    "\n",
    "2] Sex: Gender of the patient (1 = male; 0 = female).\n",
    "\n",
    "3] ChestPain: Type of chest pain experienced, categorized as:\n",
    "\n",
    "0: Typical angina\n",
    "1: Atypical angina\n",
    "2: Non-anginal pain\n",
    "3: Asymptomatic\n",
    "\n",
    "4] RestBP: Resting blood pressure in mm Hg upon hospital admission.\n",
    "\n",
    "5] Chol: Serum cholesterol level in mg/dL.\n",
    "\n",
    "6] Fbs: Fasting blood sugar > 120 mg/dL (1 = true; 0 = false).\n",
    "\n",
    "7] RestECG: Resting electrocardiographic results, with values:\n",
    "\n",
    "0: Normal\n",
    "1: Having ST-T wave abnormality\n",
    "2: Showing probable or definite left ventricular hypertrophy\n",
    "\n",
    "8] MaxHR: Maximum heart rate achieved during exercise.\n",
    "\n",
    "9] ExAng: Exercise-induced angina (1 = yes; 0 = no).\n",
    "\n",
    "10] Oldpeak: ST depression induced by exercise relative to rest.\n",
    "\n",
    "11] Slope: Slope of the peak exercise ST segment, categorized as:\n",
    "\n",
    "0: Upsloping\n",
    "1: Flat\n",
    "2: Downsloping\n",
    "\n",
    "12] Ca: Number of major vessels (0-3) colored by fluoroscopy.\n",
    "\n",
    "13] Thal: Thalassemia status, with values:\n",
    "\n",
    "0: Normal\n",
    "1: Fixed defect\n",
    "2: Reversible defect\n",
    "\n",
    "14] AHD: Presence of heart disease (1 = yes; 0 = no)."
   ]
  },
  {
   "cell_type": "code",
   "execution_count": 9,
   "id": "739e882f",
   "metadata": {},
   "outputs": [
    {
     "name": "stdout",
     "output_type": "stream",
     "text": [
      "<class 'pandas.core.frame.DataFrame'>\n",
      "RangeIndex: 500 entries, 0 to 499\n",
      "Data columns (total 14 columns):\n",
      " #   Column     Non-Null Count  Dtype  \n",
      "---  ------     --------------  -----  \n",
      " 0   Age        500 non-null    int64  \n",
      " 1   Sex        500 non-null    int64  \n",
      " 2   ChestPain  500 non-null    int64  \n",
      " 3   RestBP     500 non-null    int64  \n",
      " 4   Chol       500 non-null    int64  \n",
      " 5   Fbs        500 non-null    int64  \n",
      " 6   RestECG    500 non-null    int64  \n",
      " 7   MaxHR      500 non-null    int64  \n",
      " 8   ExAng      500 non-null    int64  \n",
      " 9   Oldpeak    500 non-null    float64\n",
      " 10  Slope      500 non-null    int64  \n",
      " 11  Ca         500 non-null    int64  \n",
      " 12  Thal       500 non-null    int64  \n",
      " 13  AHD        500 non-null    int64  \n",
      "dtypes: float64(1), int64(13)\n",
      "memory usage: 54.8 KB\n"
     ]
    }
   ],
   "source": [
    "# print information of dataset\n",
    "df.info()"
   ]
  },
  {
   "cell_type": "code",
   "execution_count": 10,
   "id": "90975457",
   "metadata": {},
   "outputs": [
    {
     "data": {
      "text/html": [
       "<div>\n",
       "<style scoped>\n",
       "    .dataframe tbody tr th:only-of-type {\n",
       "        vertical-align: middle;\n",
       "    }\n",
       "\n",
       "    .dataframe tbody tr th {\n",
       "        vertical-align: top;\n",
       "    }\n",
       "\n",
       "    .dataframe thead th {\n",
       "        text-align: right;\n",
       "    }\n",
       "</style>\n",
       "<table border=\"1\" class=\"dataframe\">\n",
       "  <thead>\n",
       "    <tr style=\"text-align: right;\">\n",
       "      <th></th>\n",
       "      <th>Age</th>\n",
       "      <th>Sex</th>\n",
       "      <th>ChestPain</th>\n",
       "      <th>RestBP</th>\n",
       "      <th>Chol</th>\n",
       "      <th>Fbs</th>\n",
       "      <th>RestECG</th>\n",
       "      <th>MaxHR</th>\n",
       "      <th>ExAng</th>\n",
       "      <th>Oldpeak</th>\n",
       "      <th>Slope</th>\n",
       "      <th>Ca</th>\n",
       "      <th>Thal</th>\n",
       "      <th>AHD</th>\n",
       "    </tr>\n",
       "  </thead>\n",
       "  <tbody>\n",
       "    <tr>\n",
       "      <th>count</th>\n",
       "      <td>500.000000</td>\n",
       "      <td>500.000000</td>\n",
       "      <td>500.00000</td>\n",
       "      <td>500.00000</td>\n",
       "      <td>500.000000</td>\n",
       "      <td>500.000000</td>\n",
       "      <td>500.000000</td>\n",
       "      <td>500.000000</td>\n",
       "      <td>500.000000</td>\n",
       "      <td>500.000000</td>\n",
       "      <td>500.000000</td>\n",
       "      <td>500.000000</td>\n",
       "      <td>500.000000</td>\n",
       "      <td>500.000000</td>\n",
       "    </tr>\n",
       "    <tr>\n",
       "      <th>mean</th>\n",
       "      <td>52.980000</td>\n",
       "      <td>0.468000</td>\n",
       "      <td>1.44600</td>\n",
       "      <td>145.80200</td>\n",
       "      <td>349.134000</td>\n",
       "      <td>0.522000</td>\n",
       "      <td>0.960000</td>\n",
       "      <td>137.414000</td>\n",
       "      <td>0.510000</td>\n",
       "      <td>3.183000</td>\n",
       "      <td>1.070000</td>\n",
       "      <td>1.514000</td>\n",
       "      <td>1.054000</td>\n",
       "      <td>0.504000</td>\n",
       "    </tr>\n",
       "    <tr>\n",
       "      <th>std</th>\n",
       "      <td>13.800598</td>\n",
       "      <td>0.499475</td>\n",
       "      <td>1.09795</td>\n",
       "      <td>30.52058</td>\n",
       "      <td>130.505891</td>\n",
       "      <td>0.500016</td>\n",
       "      <td>0.817151</td>\n",
       "      <td>38.168472</td>\n",
       "      <td>0.500401</td>\n",
       "      <td>1.763823</td>\n",
       "      <td>0.811429</td>\n",
       "      <td>1.133302</td>\n",
       "      <td>0.815115</td>\n",
       "      <td>0.500485</td>\n",
       "    </tr>\n",
       "    <tr>\n",
       "      <th>min</th>\n",
       "      <td>29.000000</td>\n",
       "      <td>0.000000</td>\n",
       "      <td>0.00000</td>\n",
       "      <td>94.00000</td>\n",
       "      <td>126.000000</td>\n",
       "      <td>0.000000</td>\n",
       "      <td>0.000000</td>\n",
       "      <td>71.000000</td>\n",
       "      <td>0.000000</td>\n",
       "      <td>0.000000</td>\n",
       "      <td>0.000000</td>\n",
       "      <td>0.000000</td>\n",
       "      <td>0.000000</td>\n",
       "      <td>0.000000</td>\n",
       "    </tr>\n",
       "    <tr>\n",
       "      <th>25%</th>\n",
       "      <td>42.000000</td>\n",
       "      <td>0.000000</td>\n",
       "      <td>0.00000</td>\n",
       "      <td>119.00000</td>\n",
       "      <td>240.500000</td>\n",
       "      <td>0.000000</td>\n",
       "      <td>0.000000</td>\n",
       "      <td>105.000000</td>\n",
       "      <td>0.000000</td>\n",
       "      <td>1.700000</td>\n",
       "      <td>0.000000</td>\n",
       "      <td>0.000000</td>\n",
       "      <td>0.000000</td>\n",
       "      <td>0.000000</td>\n",
       "    </tr>\n",
       "    <tr>\n",
       "      <th>50%</th>\n",
       "      <td>54.000000</td>\n",
       "      <td>0.000000</td>\n",
       "      <td>1.00000</td>\n",
       "      <td>146.00000</td>\n",
       "      <td>351.500000</td>\n",
       "      <td>1.000000</td>\n",
       "      <td>1.000000</td>\n",
       "      <td>138.000000</td>\n",
       "      <td>1.000000</td>\n",
       "      <td>3.200000</td>\n",
       "      <td>1.000000</td>\n",
       "      <td>2.000000</td>\n",
       "      <td>1.000000</td>\n",
       "      <td>1.000000</td>\n",
       "    </tr>\n",
       "    <tr>\n",
       "      <th>75%</th>\n",
       "      <td>64.000000</td>\n",
       "      <td>1.000000</td>\n",
       "      <td>2.00000</td>\n",
       "      <td>174.00000</td>\n",
       "      <td>463.500000</td>\n",
       "      <td>1.000000</td>\n",
       "      <td>2.000000</td>\n",
       "      <td>171.000000</td>\n",
       "      <td>1.000000</td>\n",
       "      <td>4.725000</td>\n",
       "      <td>2.000000</td>\n",
       "      <td>3.000000</td>\n",
       "      <td>2.000000</td>\n",
       "      <td>1.000000</td>\n",
       "    </tr>\n",
       "    <tr>\n",
       "      <th>max</th>\n",
       "      <td>76.000000</td>\n",
       "      <td>1.000000</td>\n",
       "      <td>3.00000</td>\n",
       "      <td>199.00000</td>\n",
       "      <td>563.000000</td>\n",
       "      <td>1.000000</td>\n",
       "      <td>2.000000</td>\n",
       "      <td>201.000000</td>\n",
       "      <td>1.000000</td>\n",
       "      <td>6.200000</td>\n",
       "      <td>2.000000</td>\n",
       "      <td>3.000000</td>\n",
       "      <td>2.000000</td>\n",
       "      <td>1.000000</td>\n",
       "    </tr>\n",
       "  </tbody>\n",
       "</table>\n",
       "</div>"
      ],
      "text/plain": [
       "              Age         Sex  ChestPain     RestBP        Chol         Fbs  \\\n",
       "count  500.000000  500.000000  500.00000  500.00000  500.000000  500.000000   \n",
       "mean    52.980000    0.468000    1.44600  145.80200  349.134000    0.522000   \n",
       "std     13.800598    0.499475    1.09795   30.52058  130.505891    0.500016   \n",
       "min     29.000000    0.000000    0.00000   94.00000  126.000000    0.000000   \n",
       "25%     42.000000    0.000000    0.00000  119.00000  240.500000    0.000000   \n",
       "50%     54.000000    0.000000    1.00000  146.00000  351.500000    1.000000   \n",
       "75%     64.000000    1.000000    2.00000  174.00000  463.500000    1.000000   \n",
       "max     76.000000    1.000000    3.00000  199.00000  563.000000    1.000000   \n",
       "\n",
       "          RestECG       MaxHR       ExAng     Oldpeak       Slope          Ca  \\\n",
       "count  500.000000  500.000000  500.000000  500.000000  500.000000  500.000000   \n",
       "mean     0.960000  137.414000    0.510000    3.183000    1.070000    1.514000   \n",
       "std      0.817151   38.168472    0.500401    1.763823    0.811429    1.133302   \n",
       "min      0.000000   71.000000    0.000000    0.000000    0.000000    0.000000   \n",
       "25%      0.000000  105.000000    0.000000    1.700000    0.000000    0.000000   \n",
       "50%      1.000000  138.000000    1.000000    3.200000    1.000000    2.000000   \n",
       "75%      2.000000  171.000000    1.000000    4.725000    2.000000    3.000000   \n",
       "max      2.000000  201.000000    1.000000    6.200000    2.000000    3.000000   \n",
       "\n",
       "             Thal         AHD  \n",
       "count  500.000000  500.000000  \n",
       "mean     1.054000    0.504000  \n",
       "std      0.815115    0.500485  \n",
       "min      0.000000    0.000000  \n",
       "25%      0.000000    0.000000  \n",
       "50%      1.000000    1.000000  \n",
       "75%      2.000000    1.000000  \n",
       "max      2.000000    1.000000  "
      ]
     },
     "execution_count": 10,
     "metadata": {},
     "output_type": "execute_result"
    }
   ],
   "source": [
    "# description of dataset\n",
    "df.describe()"
   ]
  },
  {
   "cell_type": "code",
   "execution_count": 11,
   "id": "acd920bf",
   "metadata": {},
   "outputs": [
    {
     "data": {
      "text/plain": [
       "Age          0\n",
       "Sex          0\n",
       "ChestPain    0\n",
       "RestBP       0\n",
       "Chol         0\n",
       "Fbs          0\n",
       "RestECG      0\n",
       "MaxHR        0\n",
       "ExAng        0\n",
       "Oldpeak      0\n",
       "Slope        0\n",
       "Ca           0\n",
       "Thal         0\n",
       "AHD          0\n",
       "dtype: int64"
      ]
     },
     "execution_count": 11,
     "metadata": {},
     "output_type": "execute_result"
    }
   ],
   "source": [
    "#check the null values \n",
    "df.isnull().sum()"
   ]
  },
  {
   "cell_type": "markdown",
   "id": "906c8577",
   "metadata": {},
   "source": [
    "In this dataset we can see that only 2 columns i.e. Ca, Thal are contain null values "
   ]
  },
  {
   "cell_type": "code",
   "execution_count": 12,
   "id": "07cb303a",
   "metadata": {},
   "outputs": [],
   "source": [
    "# \"Ca\" is the numbrical column so replace missing values by mean value\n",
    "df[\"Ca\"].fillna(df[\"Ca\"].mean,inplace=True)"
   ]
  },
  {
   "cell_type": "code",
   "execution_count": 13,
   "id": "b335db39",
   "metadata": {},
   "outputs": [],
   "source": [
    "#\"Thal\" is the categorical column so replace it's missing values by mode\n",
    "df[\"Thal\"] = df[\"Thal\"].fillna(df[\"Thal\"].mode()[0])"
   ]
  },
  {
   "cell_type": "code",
   "execution_count": 14,
   "id": "4323fabd",
   "metadata": {},
   "outputs": [
    {
     "data": {
      "text/plain": [
       "Age          0\n",
       "Sex          0\n",
       "ChestPain    0\n",
       "RestBP       0\n",
       "Chol         0\n",
       "Fbs          0\n",
       "RestECG      0\n",
       "MaxHR        0\n",
       "ExAng        0\n",
       "Oldpeak      0\n",
       "Slope        0\n",
       "Ca           0\n",
       "Thal         0\n",
       "AHD          0\n",
       "dtype: int64"
      ]
     },
     "execution_count": 14,
     "metadata": {},
     "output_type": "execute_result"
    }
   ],
   "source": [
    "#verify the missing values are filled ?\n",
    "df.isnull().sum()"
   ]
  },
  {
   "cell_type": "markdown",
   "id": "e2e10b63",
   "metadata": {},
   "source": [
    "# Operation 1\n",
    "-----Standard derivation, variance calculation for every numberical column-----"
   ]
  },
  {
   "cell_type": "code",
   "execution_count": 15,
   "id": "e7badea1",
   "metadata": {},
   "outputs": [
    {
     "name": "stdout",
     "output_type": "stream",
     "text": [
      "Age            int64\n",
      "Sex            int64\n",
      "ChestPain      int64\n",
      "RestBP         int64\n",
      "Chol           int64\n",
      "Fbs            int64\n",
      "RestECG        int64\n",
      "MaxHR          int64\n",
      "ExAng          int64\n",
      "Oldpeak      float64\n",
      "Slope          int64\n",
      "Ca             int64\n",
      "Thal           int64\n",
      "AHD            int64\n",
      "dtype: object\n"
     ]
    }
   ],
   "source": [
    "print(df.dtypes)"
   ]
  },
  {
   "cell_type": "markdown",
   "id": "dd14211c",
   "metadata": {},
   "source": []
  },
  {
   "cell_type": "markdown",
   "id": "05b0f146",
   "metadata": {},
   "source": [
    "------------Variance and Standard derivation of Age column---------------"
   ]
  },
  {
   "cell_type": "code",
   "execution_count": 16,
   "id": "84d7a4cb",
   "metadata": {},
   "outputs": [
    {
     "name": "stdout",
     "output_type": "stream",
     "text": [
      "Variance of Age column:  190.4565130260521\n",
      "Standard derivation of Age column:  13.800598285076344\n"
     ]
    }
   ],
   "source": [
    "#step 1: calculate mean val\n",
    "mean_val=sum(df[\"Age\"]/len(df[\"Age\"]))\n",
    "#step 2: calculate the squared differences\n",
    "squared_diff=[(x-mean_val)**2 for x in df[\"Age\"]]\n",
    "# Step 3: Calculate variance (divide by n-1 for sample std deviation)\n",
    "variance_Age = sum(squared_diff) / (len(df[\"Age\"]) - 1)\n",
    "# step 4: take square root to get std dev\n",
    "std_dev_Age=np.sqrt(variance_Age)\n",
    "print(\"Variance of Age column: \",variance_Age)\n",
    "print(\"Standard derivation of Age column: \",std_dev_Age)"
   ]
  },
  {
   "cell_type": "markdown",
   "id": "142812ff",
   "metadata": {},
   "source": [
    "------------Variance and Standard derivation of Chol column---------------"
   ]
  },
  {
   "cell_type": "code",
   "execution_count": 17,
   "id": "68eb207d",
   "metadata": {},
   "outputs": [
    {
     "name": "stdout",
     "output_type": "stream",
     "text": [
      "Variance of Chol column:  17031.787619238476\n",
      "Standard derivation of Chol column:  130.50589112847925\n"
     ]
    }
   ],
   "source": [
    "#step 1: calculate mean val\n",
    "mean_val=sum(df[\"Chol\"]/len(df[\"Chol\"]))\n",
    "#step 2: calculate the squared differences\n",
    "squared_diff=[(x-mean_val)**2 for x in df[\"Chol\"]]\n",
    "# Step 3: Calculate variance (divide by n-1 for sample std deviation)\n",
    "variance_Chol = sum(squared_diff) / (len(df[\"Chol\"]) - 1)\n",
    "# step 4: take square root to get std dev\n",
    "std_dev_Chol=np.sqrt(variance_Chol)\n",
    "print(\"Variance of Chol column: \",variance_Chol)\n",
    "print(\"Standard derivation of Chol column: \",std_dev_Chol)"
   ]
  },
  {
   "cell_type": "markdown",
   "id": "48ec8b22",
   "metadata": {},
   "source": [
    "------------Variance and Standard derivation of RestBP column---------------"
   ]
  },
  {
   "cell_type": "code",
   "execution_count": 18,
   "id": "517861fd",
   "metadata": {},
   "outputs": [
    {
     "name": "stdout",
     "output_type": "stream",
     "text": [
      "Variance of RestBP column:  931.5058076152304\n",
      "Standard derivation of RestBP column:  30.520580066820983\n"
     ]
    }
   ],
   "source": [
    "#step 1: calculate mean val\n",
    "mean_val=sum(df[\"RestBP\"]/len(df[\"RestBP\"]))\n",
    "#step 2: calculate the squared differences\n",
    "squared_diff=[(x-mean_val)**2 for x in df[\"RestBP\"]]\n",
    "# Step 3: Calculate variance (divide by n-1 for sample std deviation)\n",
    "variance_RestBP = sum(squared_diff) / (len(df[\"RestBP\"]) - 1)\n",
    "# step 4: take square root to get std dev\n",
    "std_dev_RestBP=np.sqrt(variance_RestBP)\n",
    "print(\"Variance of RestBP column: \",variance_RestBP)\n",
    "print(\"Standard derivation of RestBP column: \",std_dev_RestBP)"
   ]
  },
  {
   "cell_type": "markdown",
   "id": "8a0b9b7d",
   "metadata": {},
   "source": [
    "------------Variance and Standard derivation of MaxHR column---------------"
   ]
  },
  {
   "cell_type": "code",
   "execution_count": 19,
   "id": "0f199f76",
   "metadata": {},
   "outputs": [
    {
     "name": "stdout",
     "output_type": "stream",
     "text": [
      "Variance of RestBP column:  1456.8322685370742\n",
      "Standard derivation of RestBP column:  38.16847217975949\n"
     ]
    }
   ],
   "source": [
    "#step 1: calculate mean val\n",
    "mean_val=sum(df[\"MaxHR\"]/len(df[\"MaxHR\"]))\n",
    "#step 2: calculate the squared differences\n",
    "squared_diff=[(x-mean_val)**2 for x in df[\"MaxHR\"]]\n",
    "# Step 3: Calculate variance (divide by n-1 for sample std deviation)\n",
    "variance_MaxHR = sum(squared_diff) / (len(df[\"MaxHR\"]) - 1)\n",
    "# step 4: take square root to get std dev\n",
    "std_dev_MaxHR=np.sqrt(variance_MaxHR)\n",
    "print(\"Variance of RestBP column: \",variance_MaxHR)\n",
    "print(\"Standard derivation of RestBP column: \",std_dev_MaxHR)"
   ]
  },
  {
   "cell_type": "markdown",
   "id": "a8f54d53",
   "metadata": {},
   "source": [
    "------------Variance and Standard derivation of Oldpeak column---------------"
   ]
  },
  {
   "cell_type": "code",
   "execution_count": 20,
   "id": "65aa5862",
   "metadata": {},
   "outputs": [
    {
     "name": "stdout",
     "output_type": "stream",
     "text": [
      "Variance of Oldpeak column:  3.1110731462925854\n",
      "Standard derivation of Oldpeak column:  1.763823445329091\n"
     ]
    }
   ],
   "source": [
    "#step 1: calculate mean val\n",
    "mean_val=sum(df[\"Oldpeak\"]/len(df[\"Oldpeak\"]))\n",
    "#step 2: calculate the squared differences\n",
    "squared_diff=[(x-mean_val)**2 for x in df[\"Oldpeak\"]]\n",
    "# Step 3: Calculate variance (divide by n-1 for sample std deviation)\n",
    "variance_Oldpeak = sum(squared_diff) / (len(df[\"Oldpeak\"]) - 1)\n",
    "# step 4: take square root to get std dev\n",
    "std_dev_Oldpeak=np.sqrt(variance_Oldpeak)\n",
    "print(\"Variance of Oldpeak column: \",variance_Oldpeak)\n",
    "print(\"Standard derivation of Oldpeak column: \",std_dev_Oldpeak)"
   ]
  },
  {
   "cell_type": "code",
   "execution_count": 21,
   "id": "3924fb52",
   "metadata": {},
   "outputs": [
    {
     "name": "stderr",
     "output_type": "stream",
     "text": [
      "C:\\Users\\Aditya\\AppData\\Local\\Temp\\ipykernel_10272\\765313345.py:7: FutureWarning: \n",
      "\n",
      "Passing `palette` without assigning `hue` is deprecated and will be removed in v0.14.0. Assign the `x` variable to `hue` and set `legend=False` for the same effect.\n",
      "\n",
      "  sns.barplot(x=variance_values.index, y=variance_values.values, palette=\"Blues\")\n"
     ]
    },
    {
     "data": {
      "image/png": "[encoded data removed]",
      "text/plain": [
       "<Figure size 1000x500 with 1 Axes>"
      ]
     },
     "metadata": {},
     "output_type": "display_data"
    },
    {
     "name": "stderr",
     "output_type": "stream",
     "text": [
      "C:\\Users\\Aditya\\AppData\\Local\\Temp\\ipykernel_10272\\765313345.py:15: FutureWarning: \n",
      "\n",
      "Passing `palette` without assigning `hue` is deprecated and will be removed in v0.14.0. Assign the `x` variable to `hue` and set `legend=False` for the same effect.\n",
      "\n",
      "  sns.barplot(x=std_dev_values.index, y=std_dev_values.values, palette=\"Greens\")\n"
     ]
    },
    {
     "data": {
      "image/png": "[encoded data removed]",
      "text/plain": [
       "<Figure size 1000x500 with 1 Axes>"
      ]
     },
     "metadata": {},
     "output_type": "display_data"
    }
   ],
   "source": [
    "# Compute variance and standard deviation\n",
    "variance_values = df[[\"Age\", \"RestBP\", \"Chol\", \"MaxHR\", \"Oldpeak\"]].var()\n",
    "std_dev_values = df[[\"Age\", \"RestBP\", \"Chol\", \"MaxHR\", \"Oldpeak\"]].std()\n",
    "\n",
    "# Create a bar plot for variance\n",
    "plt.figure(figsize=(10, 5))\n",
    "sns.barplot(x=variance_values.index, y=variance_values.values, palette=\"Blues\")\n",
    "plt.xlabel(\"Columns\")\n",
    "plt.ylabel(\"Variance\")\n",
    "plt.title(\"Variance of Numerical Columns\")\n",
    "plt.show()\n",
    "\n",
    "# Create a bar plot for standard deviation\n",
    "plt.figure(figsize=(10, 5))\n",
    "sns.barplot(x=std_dev_values.index, y=std_dev_values.values, palette=\"Greens\")\n",
    "plt.xlabel(\"Columns\")\n",
    "plt.ylabel(\"Standard Deviation\")\n",
    "plt.title(\"Standard Deviation of Numerical Columns\")\n",
    "plt.show()"
   ]
  },
  {
   "cell_type": "markdown",
   "id": "ed3821e9",
   "metadata": {},
   "source": [
    "# Operation 2\n",
    "-----Find covarience and perform correlation analysis using correlation coeficient-----"
   ]
  },
  {
   "cell_type": "code",
   "execution_count": 22,
   "id": "be88bc84",
   "metadata": {},
   "outputs": [
    {
     "name": "stdout",
     "output_type": "stream",
     "text": [
      "Covariance between Age and MaxBP:  -16.562845691382755\n",
      "Correlation coeficient between Age and MaxBP:  -0.031443600162844434\n"
     ]
    }
   ],
   "source": [
    "\n",
    "##### Covariance and correlation analysis of Age Vs MaxHR #####\n",
    "\n",
    "\n",
    "#select 2 numbrical column -- Age, MaxHR and drop NaN values\n",
    "x=df[\"Age\"].dropna().values\n",
    "y=df[\"MaxHR\"].dropna().values\n",
    "#step 1: compute mean of x and y\n",
    "mean_x=sum(x)/len(x)\n",
    "mean_y=sum(y)/len(y)\n",
    "\n",
    "#step 2: compute covariance\n",
    "covariance_AgeVsMaxBP=sum((x-mean_x)*(y-mean_y))/(len(x)-1)\n",
    "\n",
    "#step 3: compute standard derivation\n",
    "std_x=(sum((x-mean_x)**2)/(len(x)-1))**0.5\n",
    "std_y=(sum((y-mean_y)**2)/(len(x)-1))**0.5\n",
    "\n",
    "#step 4: compute correlation coeficient\n",
    "correlation_AgeVsMaxBP=covariance_AgeVsMaxBP/(std_x * std_y)\n",
    "\n",
    "print(\"Covariance between Age and MaxBP: \",covariance_AgeVsMaxBP)\n",
    "print(\"Correlation coeficient between Age and MaxBP: \",correlation_AgeVsMaxBP)"
   ]
  },
  {
   "cell_type": "code",
   "execution_count": 26,
   "id": "4265692a",
   "metadata": {},
   "outputs": [
    {
     "data": {
      "image/png": "[encoded data removed]",
      "text/plain": [
       "<Figure size 600x400 with 2 Axes>"
      ]
     },
     "metadata": {},
     "output_type": "display_data"
    }
   ],
   "source": [
    "# Compute correlation matrix\n",
    "correlation_matrix = df[[\"Age\", \"RestBP\"]].corr()\n",
    "\n",
    "# Plot heatmap\n",
    "plt.figure(figsize=(6, 4))\n",
    "sns.heatmap(correlation_matrix, annot=True, linewidths=0.5, cmap=\"coolwarm\")\n",
    "\n",
    "plt.title(\"Correlation Heatmap between Age and RestBP\", fontsize=14)\n",
    "plt.show()"
   ]
  },
  {
   "cell_type": "markdown",
   "id": "0d33e186",
   "metadata": {},
   "source": [
    "Observation: \n",
    "\n",
    "Covariance is -81.42 the negative value indicates an inverse relationship \n",
    "\n",
    "Correlation coefficient is -0.39 "
   ]
  },
  {
   "cell_type": "markdown",
   "id": "734f13bb",
   "metadata": {},
   "source": [
    "# Operation 3\n",
    "-----Identify independent features and unwanted features-----"
   ]
  },
  {
   "cell_type": "code",
   "execution_count": 27,
   "id": "6f06be0f",
   "metadata": {},
   "outputs": [
    {
     "name": "stdout",
     "output_type": "stream",
     "text": [
      "Strongly correlated featues are:  set()\n"
     ]
    }
   ],
   "source": [
    "# 1st find highly correlated features \n",
    "threshold=0.8\n",
    "high_corr_features=set()\n",
    "for i in range(len(correlation_matrix.columns)):#iterates over the upper triangle of the correlation matrix \n",
    "    for j in range(i):   #avoid duplicate pairs\n",
    "        if abs(correlation_matrix.iloc[i,j])>threshold:\n",
    "            col_name=correlation_matrix.columns[i]\n",
    "            high_corr_features.add(col_name)\n",
    "print(\"Strongly correlated featues are: \",high_corr_features)\n",
    "\n",
    "# if there is strongly correlated features(i.e. unwanted features) then drop it\n",
    "reduced_features=df.drop(columns=high_corr_features)"
   ]
  },
  {
   "cell_type": "markdown",
   "id": "c4093af7",
   "metadata": {},
   "source": [
    "# Operation 4\n",
    "-----Data discretization using equi frequency binning method on age attribute-----"
   ]
  },
  {
   "cell_type": "code",
   "execution_count": 28,
   "id": "82d1fda9",
   "metadata": {},
   "outputs": [
    {
     "name": "stdout",
     "output_type": "stream",
     "text": [
      "0           Elder\n",
      "1      Middle-Age\n",
      "2           Young\n",
      "3           Elder\n",
      "4           Young\n",
      "          ...    \n",
      "495    Middle-Age\n",
      "496    Middle-Age\n",
      "497         Young\n",
      "498         Young\n",
      "499         Elder\n",
      "Name: Age_binned, Length: 500, dtype: category\n",
      "Categories (3, object): ['Young' < 'Middle-Age' < 'Elder']\n"
     ]
    }
   ],
   "source": [
    "k=3  #no. of bins\n",
    "\n",
    "# perform equi-frequency binning into 3 bins\n",
    "df[\"Age_binned\"]=pd.qcut(df[\"Age\"],q=3,labels=[\"Young\",\"Middle-Age\",\"Elder\"])\n",
    "#print the bins \n",
    "print(df[\"Age_binned\"])"
   ]
  },
  {
   "cell_type": "code",
   "execution_count": 29,
   "id": "77194a53",
   "metadata": {},
   "outputs": [
    {
     "data": {
      "text/plain": [
       "<Axes: xlabel='Age', ylabel='Count'>"
      ]
     },
     "execution_count": 29,
     "metadata": {},
     "output_type": "execute_result"
    },
    {
     "data": {
      "image/png": "[encoded data removed]",
      "text/plain": [
       "<Figure size 640x480 with 1 Axes>"
      ]
     },
     "metadata": {},
     "output_type": "display_data"
    }
   ],
   "source": [
    "# visualize bins using histogram\n",
    "sns.histplot(df['Age'], bins=k, kde=True,color=\"blue\")"
   ]
  },
  {
   "cell_type": "markdown",
   "id": "99515b97",
   "metadata": {},
   "source": [
    "# Operation 5\n",
    "-----Data Normalization \n",
    "\n",
    "using: min-max normalization, Z-score normalization, decimal scaling normalization----- "
   ]
  },
  {
   "cell_type": "code",
   "execution_count": 30,
   "id": "648e1963",
   "metadata": {},
   "outputs": [
    {
     "name": "stdout",
     "output_type": "stream",
     "text": [
      "0      0.780952\n",
      "1      0.580952\n",
      "2      0.295238\n",
      "3      0.276190\n",
      "4      0.266667\n",
      "         ...   \n",
      "495    0.057143\n",
      "496    0.038095\n",
      "497    0.419048\n",
      "498    0.542857\n",
      "499    0.285714\n",
      "Name: RestBP_MinMax, Length: 500, dtype: float64\n"
     ]
    }
   ],
   "source": [
    "# Min-Max normalization ---> scales values between 0 and 1. Best for bounded values\n",
    "\n",
    "# Min-Max for Rest blood presserl (RestBP)\n",
    "df[\"RestBP_MinMax\"]=(df[\"RestBP\"]-df[\"RestBP\"].min())/(df[\"RestBP\"].max()-df[\"RestBP\"].min())\n",
    "print(df[\"RestBP_MinMax\"])"
   ]
  },
  {
   "cell_type": "code",
   "execution_count": 31,
   "id": "67ff5b4f",
   "metadata": {},
   "outputs": [
    {
     "name": "stdout",
     "output_type": "stream",
     "text": [
      "0      0.050343\n",
      "1      0.972540\n",
      "2      0.899314\n",
      "3      0.363844\n",
      "4      0.828375\n",
      "         ...   \n",
      "495    0.258581\n",
      "496    0.329519\n",
      "497    0.057208\n",
      "498    0.308924\n",
      "499    0.691076\n",
      "Name: Chol_MinMax, Length: 500, dtype: float64\n"
     ]
    }
   ],
   "source": [
    "# Min-Max for Cholestrol(Chol)\n",
    "df[\"Chol_MinMax\"]=(df[\"Chol\"]-df[\"Chol\"].min())/(df[\"Chol\"].max()-df[\"Chol\"].min())\n",
    "print(df[\"Chol_MinMax\"])"
   ]
  },
  {
   "cell_type": "code",
   "execution_count": 32,
   "id": "9a13d1e6",
   "metadata": {},
   "outputs": [
    {
     "name": "stdout",
     "output_type": "stream",
     "text": [
      "0      168\n",
      "1       98\n",
      "2      113\n",
      "3      156\n",
      "4       87\n",
      "      ... \n",
      "495    105\n",
      "496    100\n",
      "497    127\n",
      "498    117\n",
      "499     89\n",
      "Name: MaxHR, Length: 500, dtype: int64\n"
     ]
    }
   ],
   "source": [
    "# Min-Max for MaxHR\n",
    "df[\"MaxHR_MinMax\"]=(df[\"MaxHR\"]-df[\"MaxHR\"].min())/(df[\"MaxHR\"].max()-df[\"MaxHR\"].min())\n",
    "print(df[\"MaxHR\"])"
   ]
  },
  {
   "cell_type": "code",
   "execution_count": 33,
   "id": "af31c1b7",
   "metadata": {},
   "outputs": [
    {
     "name": "stdout",
     "output_type": "stream",
     "text": [
      "0      0.989431\n",
      "1      0.301370\n",
      "2     -0.681573\n",
      "3     -0.747102\n",
      "4     -0.779867\n",
      "         ...   \n",
      "495   -1.500692\n",
      "496   -1.566222\n",
      "497   -0.255631\n",
      "498    0.170311\n",
      "499   -0.714338\n",
      "Name: RestBP_ZScore, Length: 500, dtype: float64\n"
     ]
    }
   ],
   "source": [
    "# Z-score normalization ---> scales values with mean=0 and standard deviation=1\n",
    "\n",
    "# Z-score for Rest blood presser (RestBP)\n",
    "df[\"RestBP_ZScore\"] = (df[\"RestBP\"] - df[\"RestBP\"].mean()) / df[\"RestBP\"].std()\n",
    "print(df[\"RestBP_ZScore\"])"
   ]
  },
  {
   "cell_type": "code",
   "execution_count": 34,
   "id": "7ea1999f",
   "metadata": {},
   "outputs": [
    {
     "name": "stdout",
     "output_type": "stream",
     "text": [
      "0     -1.541187\n",
      "1      1.546796\n",
      "2      1.301596\n",
      "3     -0.491426\n",
      "4      1.064059\n",
      "         ...   \n",
      "495   -0.843901\n",
      "496   -0.606363\n",
      "497   -1.518200\n",
      "498   -0.675326\n",
      "499    0.604310\n",
      "Name: Chol_ZScore, Length: 500, dtype: float64\n"
     ]
    }
   ],
   "source": [
    "# Z-score for Cholestrol\n",
    "df[\"Chol_ZScore\"] = (df[\"Chol\"] - df[\"Chol\"].mean()) / df[\"Chol\"].std()\n",
    "print(df[\"Chol_ZScore\"])"
   ]
  },
  {
   "cell_type": "code",
   "execution_count": 35,
   "id": "73bc06ea",
   "metadata": {},
   "outputs": [
    {
     "name": "stdout",
     "output_type": "stream",
     "text": [
      "0      0.801342\n",
      "1     -1.032632\n",
      "2     -0.639638\n",
      "3      0.486946\n",
      "4     -1.320828\n",
      "         ...   \n",
      "495   -0.849235\n",
      "496   -0.980233\n",
      "497   -0.272843\n",
      "498   -0.534839\n",
      "499   -1.268429\n",
      "Name: MaxHR_ZScore, Length: 500, dtype: float64\n"
     ]
    }
   ],
   "source": [
    "#Z-score for MaxHR\n",
    "df[\"MaxHR_ZScore\"] = (df[\"MaxHR\"] - df[\"MaxHR\"].mean()) / df[\"MaxHR\"].std()\n",
    "print(df[\"MaxHR_ZScore\"])"
   ]
  },
  {
   "cell_type": "code",
   "execution_count": 36,
   "id": "22e24ec6",
   "metadata": {},
   "outputs": [
    {
     "name": "stdout",
     "output_type": "stream",
     "text": [
      "0      0.176\n",
      "1      0.155\n",
      "2      0.125\n",
      "3      0.123\n",
      "4      0.122\n",
      "       ...  \n",
      "495    0.100\n",
      "496    0.098\n",
      "497    0.138\n",
      "498    0.151\n",
      "499    0.124\n",
      "Name: RestBP_decimal, Length: 500, dtype: float64\n"
     ]
    }
   ],
   "source": [
    "# Decimal scaling normalization ---> scales values by moving the decimal point based on the maximum absolute value\n",
    "# Formula--> x'=x/10^j  where j is the no. of digit in Xmax\n",
    "\n",
    "# Decimal scaling for Rest blood presser (RestBP)\n",
    "j_RestBP=len(str(abs(df[\"RestBP\"].max())))\n",
    "df[\"RestBP_decimal\"]=df[\"RestBP\"]/(10**j_RestBP)\n",
    "print(df[\"RestBP_decimal\"])"
   ]
  },
  {
   "cell_type": "code",
   "execution_count": 37,
   "id": "aad999b3",
   "metadata": {},
   "outputs": [
    {
     "name": "stdout",
     "output_type": "stream",
     "text": [
      "0      0.148\n",
      "1      0.551\n",
      "2      0.519\n",
      "3      0.285\n",
      "4      0.488\n",
      "       ...  \n",
      "495    0.239\n",
      "496    0.270\n",
      "497    0.151\n",
      "498    0.261\n",
      "499    0.428\n",
      "Name: Chol_decimal, Length: 500, dtype: float64\n"
     ]
    }
   ],
   "source": [
    "# Decimal scaling for Caholestrol (Chol)\n",
    "j_Chol=len(str(abs(df[\"Chol\"].max())))\n",
    "df[\"Chol_decimal\"]=df[\"Chol\"]/(10**j_Chol)\n",
    "print(df[\"Chol_decimal\"])"
   ]
  },
  {
   "cell_type": "code",
   "execution_count": 38,
   "id": "adea668d",
   "metadata": {},
   "outputs": [
    {
     "name": "stdout",
     "output_type": "stream",
     "text": [
      "0      0.168\n",
      "1      0.098\n",
      "2      0.113\n",
      "3      0.156\n",
      "4      0.087\n",
      "       ...  \n",
      "495    0.105\n",
      "496    0.100\n",
      "497    0.127\n",
      "498    0.117\n",
      "499    0.089\n",
      "Name: MaxHR_decimal, Length: 500, dtype: float64\n"
     ]
    }
   ],
   "source": [
    "# Decimal scaling for MaxHR\n",
    "j_MaxHR=len(str(abs(df[\"MaxHR\"].max())))\n",
    "df[\"MaxHR_decimal\"]=df[\"MaxHR\"]/(10**j_MaxHR)\n",
    "print(df[\"MaxHR_decimal\"])"
   ]
  },
  {
   "cell_type": "code",
   "execution_count": 39,
   "id": "13cc9387",
   "metadata": {},
   "outputs": [
    {
     "data": {
      "image/png": "[encoded data removed]",
      "text/plain": [
       "<Figure size 1200x600 with 1 Axes>"
      ]
     },
     "metadata": {},
     "output_type": "display_data"
    }
   ],
   "source": [
    "# Create a DataFrame with all normalization methods\n",
    "normalized_data = df[[\"RestBP_MinMax\", \"RestBP_ZScore\", \"RestBP_decimal\",\n",
    "                      \"Chol_MinMax\", \"Chol_ZScore\", \"Chol_decimal\",\n",
    "                      \"MaxHR_MinMax\", \"MaxHR_ZScore\", \"MaxHR_decimal\"]]\n",
    "\n",
    "# Plot box plots\n",
    "plt.figure(figsize=(12, 6))\n",
    "sns.boxplot(data=normalized_data)\n",
    "plt.xticks(rotation=45)\n",
    "plt.title(\"Comparison of Different Normalization Methods\")\n",
    "plt.show()\n"
   ]
  },
  {
   "cell_type": "markdown",
   "id": "254745ca",
   "metadata": {},
   "source": [
    "Final Observation :\n",
    "    \n",
    "    Min-Max Scaling is ideal if all features need to be within the same \n",
    "    scale (e.g., neural networks).\n",
    "    \n",
    "    Z-Score Normalization is useful for detecting outliers in attributes \n",
    "    like Chol and MaxHR.\n"
   ]
  },
  {
   "cell_type": "markdown",
   "id": "05993c8d",
   "metadata": {},
   "source": [
    "# Final Conclusion:\n",
    "\n",
    "Feature selection and normalization improved data quality for machine learning models.\n",
    "\n",
    "Strong correlations were identified and redundant features were dropped to avoid multicollinearity.\n",
    "\n",
    "Heart rate tends to decline with age, confirming medical insights about cardiovascular health.\n",
    "\n",
    "The dataset indicates that individuals aged 50-60 are at higher risk, making it a key target group for healthcare interventions."
   ]
  }
 ],
 "metadata": {
  "kernelspec": {
   "display_name": "Python 3",
   "language": "python",
   "name": "python3"
  },
  "language_info": {
   "codemirror_mode": {
    "name": "ipython",
    "version": 3
   },
   "file_extension": ".py",
   "mimetype": "text/x-python",
   "name": "python",
   "nbconvert_exporter": "python",
   "pygments_lexer": "ipython3",
   "version": "3.12.4"
  }
 },
 "nbformat": 4,
 "nbformat_minor": 5
}
