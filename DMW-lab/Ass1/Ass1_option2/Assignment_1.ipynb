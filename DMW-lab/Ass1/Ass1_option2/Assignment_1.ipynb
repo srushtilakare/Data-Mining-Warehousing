{
 "cells": [
  {
   "cell_type": "code",
   "execution_count": null,
   "id": "7805fe6b",
   "metadata": {},
   "outputs": [],
   "source": [
    "#load the required datasets\n",
    "import pandas as pd\n",
    "import pandas as pd\n",
    "import matplotlib.pyplot as plt\n",
    "import seaborn as sns\n",
    "data=pd.read_csv(\"diamonds_messy.csv\")"
   ]
  },
  {
   "cell_type": "code",
   "execution_count": 2,
   "id": "593f9023",
   "metadata": {},
   "outputs": [
    {
     "name": "stdout",
     "output_type": "stream",
     "text": [
      "<class 'pandas.core.frame.DataFrame'>\n",
      "RangeIndex: 1010 entries, 0 to 1009\n",
      "Data columns (total 7 columns):\n",
      " #   Column      Non-Null Count  Dtype  \n",
      "---  ------      --------------  -----  \n",
      " 0   Unnamed: 0  1010 non-null   int64  \n",
      " 1   carat       956 non-null    float64\n",
      " 2   cut         980 non-null    object \n",
      " 3   price       983 non-null    float64\n",
      " 4   x           954 non-null    float64\n",
      " 5   y           936 non-null    object \n",
      " 6   z           1005 non-null   float64\n",
      "dtypes: float64(4), int64(1), object(2)\n",
      "memory usage: 55.4+ KB\n"
     ]
    }
   ],
   "source": [
    "#extract Information about dataset\n",
    "data.info()"
   ]
  },
  {
   "cell_type": "code",
   "execution_count": 3,
   "id": "23d02821",
   "metadata": {},
   "outputs": [
    {
     "data": {
      "text/html": [
       "<div>\n",
       "<style scoped>\n",
       "    .dataframe tbody tr th:only-of-type {\n",
       "        vertical-align: middle;\n",
       "    }\n",
       "\n",
       "    .dataframe tbody tr th {\n",
       "        vertical-align: top;\n",
       "    }\n",
       "\n",
       "    .dataframe thead th {\n",
       "        text-align: right;\n",
       "    }\n",
       "</style>\n",
       "<table border=\"1\" class=\"dataframe\">\n",
       "  <thead>\n",
       "    <tr style=\"text-align: right;\">\n",
       "      <th></th>\n",
       "      <th>Unnamed: 0</th>\n",
       "      <th>carat</th>\n",
       "      <th>price</th>\n",
       "      <th>x</th>\n",
       "      <th>z</th>\n",
       "    </tr>\n",
       "  </thead>\n",
       "  <tbody>\n",
       "    <tr>\n",
       "      <th>count</th>\n",
       "      <td>1010.000000</td>\n",
       "      <td>956.000000</td>\n",
       "      <td>983.000000</td>\n",
       "      <td>954.000000</td>\n",
       "      <td>1005.000000</td>\n",
       "    </tr>\n",
       "    <tr>\n",
       "      <th>mean</th>\n",
       "      <td>504.500000</td>\n",
       "      <td>0.798619</td>\n",
       "      <td>3873.476094</td>\n",
       "      <td>11.991488</td>\n",
       "      <td>3.499025</td>\n",
       "    </tr>\n",
       "    <tr>\n",
       "      <th>std</th>\n",
       "      <td>291.706188</td>\n",
       "      <td>0.453739</td>\n",
       "      <td>3832.384655</td>\n",
       "      <td>173.571064</td>\n",
       "      <td>0.784573</td>\n",
       "    </tr>\n",
       "    <tr>\n",
       "      <th>min</th>\n",
       "      <td>0.000000</td>\n",
       "      <td>0.200000</td>\n",
       "      <td>367.000000</td>\n",
       "      <td>-123.000000</td>\n",
       "      <td>0.000000</td>\n",
       "    </tr>\n",
       "    <tr>\n",
       "      <th>25%</th>\n",
       "      <td>252.250000</td>\n",
       "      <td>0.400000</td>\n",
       "      <td>973.000000</td>\n",
       "      <td>4.732500</td>\n",
       "      <td>2.930000</td>\n",
       "    </tr>\n",
       "    <tr>\n",
       "      <th>50%</th>\n",
       "      <td>504.500000</td>\n",
       "      <td>0.710000</td>\n",
       "      <td>2551.000000</td>\n",
       "      <td>5.730000</td>\n",
       "      <td>3.540000</td>\n",
       "    </tr>\n",
       "    <tr>\n",
       "      <th>75%</th>\n",
       "      <td>756.750000</td>\n",
       "      <td>1.040000</td>\n",
       "      <td>5135.500000</td>\n",
       "      <td>6.540000</td>\n",
       "      <td>4.020000</td>\n",
       "    </tr>\n",
       "    <tr>\n",
       "      <th>max</th>\n",
       "      <td>1009.000000</td>\n",
       "      <td>2.470000</td>\n",
       "      <td>18480.000000</td>\n",
       "      <td>5304.000000</td>\n",
       "      <td>5.390000</td>\n",
       "    </tr>\n",
       "  </tbody>\n",
       "</table>\n",
       "</div>"
      ],
      "text/plain": [
       "        Unnamed: 0       carat         price            x            z\n",
       "count  1010.000000  956.000000    983.000000   954.000000  1005.000000\n",
       "mean    504.500000    0.798619   3873.476094    11.991488     3.499025\n",
       "std     291.706188    0.453739   3832.384655   173.571064     0.784573\n",
       "min       0.000000    0.200000    367.000000  -123.000000     0.000000\n",
       "25%     252.250000    0.400000    973.000000     4.732500     2.930000\n",
       "50%     504.500000    0.710000   2551.000000     5.730000     3.540000\n",
       "75%     756.750000    1.040000   5135.500000     6.540000     4.020000\n",
       "max    1009.000000    2.470000  18480.000000  5304.000000     5.390000"
      ]
     },
     "execution_count": 3,
     "metadata": {},
     "output_type": "execute_result"
    }
   ],
   "source": [
    "#To describe the dataset\n",
    "data.describe()"
   ]
  },
  {
   "cell_type": "code",
   "execution_count": 4,
   "id": "68512163",
   "metadata": {},
   "outputs": [
    {
     "data": {
      "text/html": [
       "<div>\n",
       "<style scoped>\n",
       "    .dataframe tbody tr th:only-of-type {\n",
       "        vertical-align: middle;\n",
       "    }\n",
       "\n",
       "    .dataframe tbody tr th {\n",
       "        vertical-align: top;\n",
       "    }\n",
       "\n",
       "    .dataframe thead th {\n",
       "        text-align: right;\n",
       "    }\n",
       "</style>\n",
       "<table border=\"1\" class=\"dataframe\">\n",
       "  <thead>\n",
       "    <tr style=\"text-align: right;\">\n",
       "      <th></th>\n",
       "      <th>Unnamed: 0</th>\n",
       "      <th>carat</th>\n",
       "      <th>cut</th>\n",
       "      <th>price</th>\n",
       "      <th>x</th>\n",
       "      <th>y</th>\n",
       "      <th>z</th>\n",
       "    </tr>\n",
       "  </thead>\n",
       "  <tbody>\n",
       "    <tr>\n",
       "      <th>0</th>\n",
       "      <td>0</td>\n",
       "      <td>2.19</td>\n",
       "      <td>Good</td>\n",
       "      <td>13978.0</td>\n",
       "      <td>8.26</td>\n",
       "      <td>8.17</td>\n",
       "      <td>5.23</td>\n",
       "    </tr>\n",
       "    <tr>\n",
       "      <th>1</th>\n",
       "      <td>1</td>\n",
       "      <td>1.22</td>\n",
       "      <td>Ideal</td>\n",
       "      <td>5099.0</td>\n",
       "      <td>6.89</td>\n",
       "      <td>6.95</td>\n",
       "      <td>4.22</td>\n",
       "    </tr>\n",
       "    <tr>\n",
       "      <th>2</th>\n",
       "      <td>2</td>\n",
       "      <td>0.70</td>\n",
       "      <td>Ideal</td>\n",
       "      <td>2874.0</td>\n",
       "      <td>5.77</td>\n",
       "      <td>5.73</td>\n",
       "      <td>3.51</td>\n",
       "    </tr>\n",
       "    <tr>\n",
       "      <th>3</th>\n",
       "      <td>3</td>\n",
       "      <td>0.40</td>\n",
       "      <td>Very Good</td>\n",
       "      <td>1033.0</td>\n",
       "      <td>NaN</td>\n",
       "      <td>4.76</td>\n",
       "      <td>2.90</td>\n",
       "    </tr>\n",
       "    <tr>\n",
       "      <th>4</th>\n",
       "      <td>4</td>\n",
       "      <td>1.03</td>\n",
       "      <td>Ideal</td>\n",
       "      <td>5037.0</td>\n",
       "      <td>6.54</td>\n",
       "      <td>6.5</td>\n",
       "      <td>3.97</td>\n",
       "    </tr>\n",
       "  </tbody>\n",
       "</table>\n",
       "</div>"
      ],
      "text/plain": [
       "   Unnamed: 0  carat        cut    price     x     y     z\n",
       "0           0   2.19       Good  13978.0  8.26  8.17  5.23\n",
       "1           1   1.22      Ideal   5099.0  6.89  6.95  4.22\n",
       "2           2   0.70      Ideal   2874.0  5.77  5.73  3.51\n",
       "3           3   0.40  Very Good   1033.0   NaN  4.76  2.90\n",
       "4           4   1.03      Ideal   5037.0  6.54   6.5  3.97"
      ]
     },
     "execution_count": 4,
     "metadata": {},
     "output_type": "execute_result"
    }
   ],
   "source": [
    "#extract 1st 5 rows from dataset \n",
    "data.head(5)"
   ]
  },
  {
   "cell_type": "code",
   "execution_count": 5,
   "id": "1afadc34",
   "metadata": {},
   "outputs": [
    {
     "data": {
      "text/html": [
       "<div>\n",
       "<style scoped>\n",
       "    .dataframe tbody tr th:only-of-type {\n",
       "        vertical-align: middle;\n",
       "    }\n",
       "\n",
       "    .dataframe tbody tr th {\n",
       "        vertical-align: top;\n",
       "    }\n",
       "\n",
       "    .dataframe thead th {\n",
       "        text-align: right;\n",
       "    }\n",
       "</style>\n",
       "<table border=\"1\" class=\"dataframe\">\n",
       "  <thead>\n",
       "    <tr style=\"text-align: right;\">\n",
       "      <th></th>\n",
       "      <th>Unnamed: 0</th>\n",
       "      <th>carat</th>\n",
       "      <th>cut</th>\n",
       "      <th>price</th>\n",
       "      <th>x</th>\n",
       "      <th>y</th>\n",
       "      <th>z</th>\n",
       "    </tr>\n",
       "  </thead>\n",
       "  <tbody>\n",
       "    <tr>\n",
       "      <th>1005</th>\n",
       "      <td>1005</td>\n",
       "      <td>1.08</td>\n",
       "      <td>Ideal</td>\n",
       "      <td>5172.0</td>\n",
       "      <td>6.54</td>\n",
       "      <td>6.61</td>\n",
       "      <td>4.07</td>\n",
       "    </tr>\n",
       "    <tr>\n",
       "      <th>1006</th>\n",
       "      <td>1006</td>\n",
       "      <td>0.53</td>\n",
       "      <td>Very Good</td>\n",
       "      <td>1852.0</td>\n",
       "      <td>5.28</td>\n",
       "      <td>5.39</td>\n",
       "      <td>3.12</td>\n",
       "    </tr>\n",
       "    <tr>\n",
       "      <th>1007</th>\n",
       "      <td>1007</td>\n",
       "      <td>1.60</td>\n",
       "      <td>Premium</td>\n",
       "      <td>10064.0</td>\n",
       "      <td>7.54</td>\n",
       "      <td>7.49</td>\n",
       "      <td>4.65</td>\n",
       "    </tr>\n",
       "    <tr>\n",
       "      <th>1008</th>\n",
       "      <td>1008</td>\n",
       "      <td>0.30</td>\n",
       "      <td>Premium</td>\n",
       "      <td>776.0</td>\n",
       "      <td>4.35</td>\n",
       "      <td>NaN</td>\n",
       "      <td>2.63</td>\n",
       "    </tr>\n",
       "    <tr>\n",
       "      <th>1009</th>\n",
       "      <td>1009</td>\n",
       "      <td>0.46</td>\n",
       "      <td>Very Good</td>\n",
       "      <td>1345.0</td>\n",
       "      <td>5.05</td>\n",
       "      <td>5.1</td>\n",
       "      <td>2.99</td>\n",
       "    </tr>\n",
       "  </tbody>\n",
       "</table>\n",
       "</div>"
      ],
      "text/plain": [
       "      Unnamed: 0  carat        cut    price     x     y     z\n",
       "1005        1005   1.08      Ideal   5172.0  6.54  6.61  4.07\n",
       "1006        1006   0.53  Very Good   1852.0  5.28  5.39  3.12\n",
       "1007        1007   1.60    Premium  10064.0  7.54  7.49  4.65\n",
       "1008        1008   0.30    Premium    776.0  4.35   NaN  2.63\n",
       "1009        1009   0.46  Very Good   1345.0  5.05   5.1  2.99"
      ]
     },
     "execution_count": 5,
     "metadata": {},
     "output_type": "execute_result"
    }
   ],
   "source": [
    "#extract last 5 rows from dataset \n",
    "data.tail(5)"
   ]
  },
  {
   "cell_type": "code",
   "execution_count": 6,
   "id": "4f0fbe92",
   "metadata": {},
   "outputs": [
    {
     "data": {
      "text/plain": [
       "Index(['Unnamed: 0', 'carat', 'cut', 'price', 'x', 'y', 'z'], dtype='object')"
      ]
     },
     "execution_count": 6,
     "metadata": {},
     "output_type": "execute_result"
    }
   ],
   "source": [
    "#columns of dataset\n",
    "data.columns"
   ]
  },
  {
   "cell_type": "code",
   "execution_count": 7,
   "id": "5eadada0",
   "metadata": {},
   "outputs": [
    {
     "data": {
      "text/plain": [
       "(1010, 7)"
      ]
     },
     "execution_count": 7,
     "metadata": {},
     "output_type": "execute_result"
    }
   ],
   "source": [
    "#find shape of column\n",
    "data.shape"
   ]
  },
  {
   "cell_type": "code",
   "execution_count": 8,
   "id": "ecade56d",
   "metadata": {},
   "outputs": [
    {
     "data": {
      "text/plain": [
       "Unnamed: 0      int64\n",
       "carat         float64\n",
       "cut            object\n",
       "price         float64\n",
       "x             float64\n",
       "y              object\n",
       "z             float64\n",
       "dtype: object"
      ]
     },
     "execution_count": 8,
     "metadata": {},
     "output_type": "execute_result"
    }
   ],
   "source": [
    "#find the data type of each column\n",
    "data.dtypes"
   ]
  },
  {
   "cell_type": "code",
   "execution_count": 9,
   "id": "79d61a4f",
   "metadata": {},
   "outputs": [
    {
     "name": "stdout",
     "output_type": "stream",
     "text": [
      "Unnamed: 0     0\n",
      "carat         54\n",
      "cut           30\n",
      "price         27\n",
      "x             56\n",
      "y             74\n",
      "z              5\n",
      "dtype: int64\n"
     ]
    }
   ],
   "source": [
    "#Find missing values and repace with suitable alternative\n",
    "data.isnull()\n",
    "sum_of_missing_val=data.isnull().sum()\n",
    "print(sum_of_missing_val)"
   ]
  },
  {
   "cell_type": "code",
   "execution_count": 10,
   "id": "64a3986b",
   "metadata": {},
   "outputs": [
    {
     "name": "stderr",
     "output_type": "stream",
     "text": [
      "C:\\Users\\Sai\\AppData\\Local\\Temp\\ipykernel_58288\\333135775.py:4: FutureWarning: Dropping of nuisance columns in DataFrame reductions (with 'numeric_only=None') is deprecated; in a future version this will raise TypeError.  Select only valid columns before calling the reduction.\n",
      "  data.fillna(data.mean(),inplace=True)         #fill numeric column with mean val\n"
     ]
    }
   ],
   "source": [
    "#replace missing values with mean val\n",
    "##data[\"x\"].fillna(data[\"x\"].mean(),inplace=True)\n",
    "\n",
    "data.fillna(data.mean(),inplace=True)         #fill numeric column with mean val\n",
    "\n",
    "data.fillna(data.mode().iloc[0],inplace=True) #fill catogorical column with mode"
   ]
  },
  {
   "cell_type": "code",
   "execution_count": 11,
   "id": "cd62d521",
   "metadata": {},
   "outputs": [
    {
     "data": {
      "text/plain": [
       "Unnamed: 0    0\n",
       "carat         0\n",
       "cut           0\n",
       "price         0\n",
       "x             0\n",
       "y             0\n",
       "z             0\n",
       "dtype: int64"
      ]
     },
     "execution_count": 11,
     "metadata": {},
     "output_type": "execute_result"
    }
   ],
   "source": [
    "data.isnull().sum()"
   ]
  },
  {
   "cell_type": "code",
   "execution_count": 12,
   "id": "39ee23c9",
   "metadata": {},
   "outputs": [
    {
     "name": "stdout",
     "output_type": "stream",
     "text": [
      "Mean value:  Unnamed: 0     504.500000\n",
      "carat            0.798619\n",
      "price         3873.476094\n",
      "x               11.991488\n",
      "z                3.499025\n",
      "dtype: float64\n",
      "Median value:  Unnamed: 0     504.50\n",
      "carat            0.73\n",
      "price         2676.00\n",
      "x                5.79\n",
      "z                3.54\n",
      "dtype: float64\n",
      "Mode value:  Unnamed: 0              0\n",
      "carat            0.798619\n",
      "cut                 Ideal\n",
      "price         3873.476094\n",
      "x               11.991488\n",
      "y                    4.31\n",
      "z                    2.69\n",
      "Name: 0, dtype: object\n"
     ]
    },
    {
     "name": "stderr",
     "output_type": "stream",
     "text": [
      "C:\\Users\\Sai\\AppData\\Local\\Temp\\ipykernel_58288\\1245887803.py:2: FutureWarning: Dropping of nuisance columns in DataFrame reductions (with 'numeric_only=None') is deprecated; in a future version this will raise TypeError.  Select only valid columns before calling the reduction.\n",
      "  print(\"Mean value: \",data.mean())   #mean-->avg val\n",
      "C:\\Users\\Sai\\AppData\\Local\\Temp\\ipykernel_58288\\1245887803.py:3: FutureWarning: Dropping of nuisance columns in DataFrame reductions (with 'numeric_only=None') is deprecated; in a future version this will raise TypeError.  Select only valid columns before calling the reduction.\n",
      "  print(\"Median value: \",data.median())  #median-->middle val\n"
     ]
    }
   ],
   "source": [
    "#Find mean, median and mode\n",
    "print(\"Mean value: \",data.mean())   #mean-->avg val\n",
    "print(\"Median value: \",data.median())  #median-->middle val\n",
    "print(\"Mode value: \",data.mode().iloc[0])    #mode-->most frequently occures val"
   ]
  },
  {
   "cell_type": "code",
   "execution_count": 13,
   "id": "8099e0f1",
   "metadata": {},
   "outputs": [],
   "source": [
    "# Remove the inconsistency from dataset\n",
    "data=data.drop_duplicates()"
   ]
  },
  {
   "cell_type": "code",
   "execution_count": 14,
   "id": "0b2ceeeb",
   "metadata": {},
   "outputs": [
    {
     "data": {
      "text/plain": [
       "(1010, 7)"
      ]
     },
     "execution_count": 14,
     "metadata": {},
     "output_type": "execute_result"
    }
   ],
   "source": [
    "data.shape"
   ]
  },
  {
   "cell_type": "code",
   "execution_count": 15,
   "id": "4a7a5f4e",
   "metadata": {},
   "outputs": [
    {
     "data": {
      "text/plain": [
       "Unnamed: 0     1\n",
       "carat          0\n",
       "cut            0\n",
       "price          0\n",
       "x              1\n",
       "y              0\n",
       "z             14\n",
       "dtype: int64"
      ]
     },
     "execution_count": 15,
     "metadata": {},
     "output_type": "execute_result"
    }
   ],
   "source": [
    "#finding out zeros in dataset\n",
    "(data==0).sum()"
   ]
  },
  {
   "cell_type": "code",
   "execution_count": 18,
   "id": "1fd9728a",
   "metadata": {},
   "outputs": [
    {
     "data": {
      "image/png": "[encoded data removed]",
      "text/plain": [
       "<Figure size 640x480 with 1 Axes>"
      ]
     },
     "metadata": {},
     "output_type": "display_data"
    }
   ],
   "source": [
    "#Box plot-->represent using 5 number summary(i.e min, Q1, median, Q3, max)\n",
    "\n",
    "numbrical_column=data.select_dtypes(include=[\"number\"])\n",
    "sns.boxplot(data=numbrical_column)\n",
    "plt.title(\"Box plot for all numbrical columns\")\n",
    "plt.xticks(rotation=45)\n",
    "plt.show()\n"
   ]
  },
  {
   "cell_type": "code",
   "execution_count": 19,
   "id": "bae0fc6e",
   "metadata": {},
   "outputs": [],
   "source": [
    "#Find outliers in each attribute\n",
    "##detect outliers using IQR\n",
    "Q1=data[\"price\"].quantile(0.25)\n",
    "Q3=data[\"price\"].quantile(0.75)\n",
    "IQR=Q3-Q1"
   ]
  },
  {
   "cell_type": "code",
   "execution_count": 20,
   "id": "f2e6b91b",
   "metadata": {},
   "outputs": [
    {
     "name": "stdout",
     "output_type": "stream",
     "text": [
      "1003.5\n",
      "5051.75\n"
     ]
    }
   ],
   "source": [
    "print(Q1)\n",
    "print(Q3)"
   ]
  },
  {
   "cell_type": "code",
   "execution_count": 21,
   "id": "78775178",
   "metadata": {},
   "outputs": [
    {
     "name": "stdout",
     "output_type": "stream",
     "text": [
      "4048.25\n"
     ]
    }
   ],
   "source": [
    "print(IQR)         #------> IQR: use to find extream values or outliers. IQR is the represents the range within which the central 50% of the data falls."
   ]
  },
  {
   "cell_type": "code",
   "execution_count": 22,
   "id": "416d1637",
   "metadata": {},
   "outputs": [],
   "source": [
    "#define outlier limit\n",
    "lower_bound=Q1-1.5*IQR\n",
    "upper_bound=Q3-1.5*IQR\n"
   ]
  },
  {
   "cell_type": "code",
   "execution_count": 23,
   "id": "ba45d564",
   "metadata": {},
   "outputs": [
    {
     "name": "stdout",
     "output_type": "stream",
     "text": [
      "-5068.875\n",
      "-1020.625\n"
     ]
    }
   ],
   "source": [
    "print(lower_bound)\n",
    "print(upper_bound)"
   ]
  },
  {
   "cell_type": "code",
   "execution_count": 24,
   "id": "c3c78f8a",
   "metadata": {},
   "outputs": [
    {
     "name": "stdout",
     "output_type": "stream",
     "text": [
      "      Unnamed: 0  carat        cut    price          x     y     z\n",
      "0              0   2.19       Good  13978.0   8.260000  8.17  5.23\n",
      "1              1   1.22      Ideal   5099.0   6.890000  6.95  4.22\n",
      "2              2   0.70      Ideal   2874.0   5.770000  5.73  3.51\n",
      "3              3   0.40  Very Good   1033.0  11.991488  4.76  2.90\n",
      "4              4   1.03      Ideal   5037.0   6.540000   6.5  3.97\n",
      "...          ...    ...        ...      ...        ...   ...   ...\n",
      "1005        1005   1.08      Ideal   5172.0   6.540000  6.61  4.07\n",
      "1006        1006   0.53  Very Good   1852.0   5.280000  5.39  3.12\n",
      "1007        1007   1.60    Premium  10064.0   7.540000  7.49  4.65\n",
      "1008        1008   0.30    Premium    776.0   4.350000  4.31  2.63\n",
      "1009        1009   0.46  Very Good   1345.0   5.050000   5.1  2.99\n",
      "\n",
      "[1010 rows x 7 columns]\n"
     ]
    }
   ],
   "source": [
    "#Find outliers                                                                \n",
    "outliers=data[(data[\"price\"]<lower_bound) | (data[\"price\"]>upper_bound)]\n",
    "print(outliers)"
   ]
  },
  {
   "cell_type": "markdown",
   "id": "37518b3e",
   "metadata": {},
   "source": [
    "Any value below the lower bound is considered a low outlier.\n",
    "Any value above the upper bound is considered a high outlier."
   ]
  },
  {
   "cell_type": "code",
   "execution_count": 28,
   "id": "232348f1",
   "metadata": {},
   "outputs": [
    {
     "data": {
      "image/png": "[encoded data removed]",
      "text/plain": [
       "<Figure size 640x480 with 1 Axes>"
      ]
     },
     "metadata": {},
     "output_type": "display_data"
    }
   ],
   "source": [
    "# Histogram \n",
    "plt.hist(data[\"price\"],color='skyblue',edgecolor='black')\n",
    "plt.xlabel(\"price\")\n",
    "plt.ylabel(\"frequency\")\n",
    "plt.title(\"Histogram for dimaond prices\")\n",
    "plt.show()\n",
    "#print(data.dtypes)"
   ]
  },
  {
   "cell_type": "code",
   "execution_count": 36,
   "id": "d10591d9",
   "metadata": {},
   "outputs": [
    {
     "data": {
      "image/png": "[encoded data removed]",
      "text/plain": [
       "<Figure size 640x480 with 1 Axes>"
      ]
     },
     "metadata": {},
     "output_type": "display_data"
    }
   ],
   "source": [
    "# Scatter plot\n",
    "plt.scatter(data['carat'],data['price'],color='blue')\n",
    "plt.xlabel('carat')\n",
    "plt.ylabel('price')\n",
    "plt.title('scatter plot for carat vs price')\n",
    "plt.show()"
   ]
  },
  {
   "cell_type": "code",
   "execution_count": null,
   "id": "8ec54ba3",
   "metadata": {},
   "outputs": [],
   "source": []
  }
 ],
 "metadata": {
  "kernelspec": {
   "display_name": "Python 3 (ipykernel)",
   "language": "python",
   "name": "python3"
  },
  "language_info": {
   "codemirror_mode": {
    "name": "ipython",
    "version": 3
   },
   "file_extension": ".py",
   "mimetype": "text/x-python",
   "name": "python",
   "nbconvert_exporter": "python",
   "pygments_lexer": "ipython3",
   "version": "3.9.13"
  }
 },
 "nbformat": 4,
 "nbformat_minor": 5
}
