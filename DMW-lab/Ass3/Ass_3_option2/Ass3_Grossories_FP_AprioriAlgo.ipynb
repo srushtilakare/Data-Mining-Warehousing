{
 "cells": [
  {
   "cell_type": "markdown",
   "id": "4a52f550-6581-46a0-8ab4-39890159ed3e",
   "metadata": {},
   "source": [
    "# Construct FP tree  and Apriori algorithm for the given transaction dataset using suitable programming language for association rule. "
   ]
  },
  {
   "cell_type": "code",
   "execution_count": 3,
   "id": "16ead4d7-91cc-4c8d-a8fa-a7120440e5ea",
   "metadata": {},
   "outputs": [
    {
     "data": {
      "text/html": [
       "<div>\n",
       "<style scoped>\n",
       "    .dataframe tbody tr th:only-of-type {\n",
       "        vertical-align: middle;\n",
       "    }\n",
       "\n",
       "    .dataframe tbody tr th {\n",
       "        vertical-align: top;\n",
       "    }\n",
       "\n",
       "    .dataframe thead th {\n",
       "        text-align: right;\n",
       "    }\n",
       "</style>\n",
       "<table border=\"1\" class=\"dataframe\">\n",
       "  <thead>\n",
       "    <tr style=\"text-align: right;\">\n",
       "      <th></th>\n",
       "      <th>citrus fruit,semi-finished bread,margarine,ready soups</th>\n",
       "    </tr>\n",
       "  </thead>\n",
       "  <tbody>\n",
       "    <tr>\n",
       "      <th>0</th>\n",
       "      <td>tropical fruit,yogurt,coffee</td>\n",
       "    </tr>\n",
       "    <tr>\n",
       "      <th>1</th>\n",
       "      <td>whole milk</td>\n",
       "    </tr>\n",
       "    <tr>\n",
       "      <th>2</th>\n",
       "      <td>pip fruit,yogurt,cream cheese ,meat spreads</td>\n",
       "    </tr>\n",
       "    <tr>\n",
       "      <th>3</th>\n",
       "      <td>other vegetables,whole milk,condensed milk,lon...</td>\n",
       "    </tr>\n",
       "    <tr>\n",
       "      <th>4</th>\n",
       "      <td>whole milk,butter,yogurt,rice,abrasive cleaner</td>\n",
       "    </tr>\n",
       "  </tbody>\n",
       "</table>\n",
       "</div>"
      ],
      "text/plain": [
       "  citrus fruit,semi-finished bread,margarine,ready soups\n",
       "0                       tropical fruit,yogurt,coffee    \n",
       "1                                         whole milk    \n",
       "2        pip fruit,yogurt,cream cheese ,meat spreads    \n",
       "3  other vegetables,whole milk,condensed milk,lon...    \n",
       "4     whole milk,butter,yogurt,rice,abrasive cleaner    "
      ]
     },
     "execution_count": 3,
     "metadata": {},
     "output_type": "execute_result"
    }
   ],
   "source": [
    "# load the datset \n",
    "import pandas as pd \n",
    "df = pd.read_csv(\"groceries.csv\", delimiter=\";\")\n",
    "df.head()"
   ]
  },
  {
   "cell_type": "markdown",
   "id": "005818ed-bcc0-4468-aa54-18eae3ca4dee",
   "metadata": {},
   "source": [
    "# data preprocessing"
   ]
  },
  {
   "cell_type": "code",
   "execution_count": 6,
   "id": "6f16b23c-3dbd-4416-ac21-edeb63a3a760",
   "metadata": {},
   "outputs": [
    {
     "data": {
      "text/plain": [
       "citrus fruit,semi-finished bread,margarine,ready soups    0\n",
       "dtype: int64"
      ]
     },
     "execution_count": 6,
     "metadata": {},
     "output_type": "execute_result"
    }
   ],
   "source": [
    "# check for null values\n",
    "df.isnull().sum()"
   ]
  },
  {
   "cell_type": "code",
   "execution_count": 8,
   "id": "1f24180d-7b3b-4012-8f2c-f05fdfe66cd0",
   "metadata": {},
   "outputs": [
    {
     "data": {
      "text/plain": [
       "0       False\n",
       "1       False\n",
       "2       False\n",
       "3       False\n",
       "4       False\n",
       "        ...  \n",
       "9829    False\n",
       "9830     True\n",
       "9831    False\n",
       "9832    False\n",
       "9833    False\n",
       "Length: 9834, dtype: bool"
      ]
     },
     "execution_count": 8,
     "metadata": {},
     "output_type": "execute_result"
    }
   ],
   "source": [
    "# according to the result there is no null values,\n",
    "# now check for duplicate values \n",
    "df.duplicated()"
   ]
  },
  {
   "cell_type": "code",
   "execution_count": 10,
   "id": "96bfb62b-6aea-499a-9f56-c8b389c8e6c5",
   "metadata": {},
   "outputs": [],
   "source": [
    "df=df.drop_duplicates()"
   ]
  },
  {
   "cell_type": "code",
   "execution_count": 12,
   "id": "1ef8b43e-cd36-4e5f-9ec4-b6aa9262b5ff",
   "metadata": {},
   "outputs": [
    {
     "data": {
      "text/plain": [
       "0       False\n",
       "1       False\n",
       "2       False\n",
       "3       False\n",
       "4       False\n",
       "        ...  \n",
       "9828    False\n",
       "9829    False\n",
       "9831    False\n",
       "9832    False\n",
       "9833    False\n",
       "Length: 7010, dtype: bool"
      ]
     },
     "execution_count": 12,
     "metadata": {},
     "output_type": "execute_result"
    }
   ],
   "source": [
    "df.duplicated()"
   ]
  },
  {
   "cell_type": "code",
   "execution_count": 14,
   "id": "7bc25064-f21f-4e99-93f3-2d229d1e171c",
   "metadata": {},
   "outputs": [
    {
     "data": {
      "text/plain": [
       "Series([], dtype: object)"
      ]
     },
     "execution_count": 14,
     "metadata": {},
     "output_type": "execute_result"
    }
   ],
   "source": [
    "df.select_dtypes(include=['number']).dtypes\n"
   ]
  },
  {
   "cell_type": "code",
   "execution_count": 16,
   "id": "ad60758a-1c0e-42cf-84c3-2c0bb9dd805b",
   "metadata": {},
   "outputs": [
    {
     "data": {
      "text/plain": [
       "(7010, 1)"
      ]
     },
     "execution_count": 16,
     "metadata": {},
     "output_type": "execute_result"
    }
   ],
   "source": [
    "df.shape"
   ]
  },
  {
   "cell_type": "code",
   "execution_count": 18,
   "id": "cd364f05-c18f-43d2-b7b6-11f2ff7fb86d",
   "metadata": {},
   "outputs": [
    {
     "data": {
      "image/png": "[encoded data removed]",
      "text/plain": [
       "<Figure size 800x600 with 1 Axes>"
      ]
     },
     "metadata": {},
     "output_type": "display_data"
    }
   ],
   "source": [
    "# there is no duplicate values  \n",
    "# now chack for outlier by visulizing the box plot \n",
    "\n",
    "import matplotlib.pyplot as plt\n",
    "\n",
    "from sklearn.preprocessing import LabelEncoder\n",
    "\n",
    "df_encoded = df.apply(LabelEncoder().fit_transform)  # Converts categories to numbers\n",
    "df_encoded.boxplot(figsize=(8,6))\n",
    "plt.show()\n"
   ]
  },
  {
   "cell_type": "code",
   "execution_count": 20,
   "id": "3e149df6-1c05-4fb5-9c65-d434ca13be6b",
   "metadata": {},
   "outputs": [],
   "source": [
    "# According the the boxplot it clearly we can understood that there is no outliers int the datset \n",
    "# so now our dataset is ready for further operations "
   ]
  },
  {
   "cell_type": "code",
   "execution_count": 22,
   "id": "bc4f0b91-6f1f-4f19-a930-9c3932d1d9f1",
   "metadata": {},
   "outputs": [],
   "source": [
    "\n",
    "# These algorithms are used to find frequent itemsets—sets of items that occur together in a dataset above a certain frequency threshold (support). \n",
    "from mlxtend.frequent_patterns import fpgrowth, apriori\n",
    "from mlxtend.frequent_patterns import association_rules\n"
   ]
  },
  {
   "cell_type": "code",
   "execution_count": null,
   "id": "bb19bca9-f609-463a-9096-848244e450db",
   "metadata": {},
   "outputs": [],
   "source": []
  },
  {
   "cell_type": "code",
   "execution_count": 25,
   "id": "b56a531c-27f2-495b-80a1-0ac08fe116f7",
   "metadata": {},
   "outputs": [
    {
     "name": "stdout",
     "output_type": "stream",
     "text": [
      "Index(['citrus fruit,semi-finished bread,margarine,ready soups'], dtype='object')\n"
     ]
    }
   ],
   "source": [
    "# Check the column names\n",
    "print(df.columns)\n"
   ]
  },
  {
   "cell_type": "code",
   "execution_count": 27,
   "id": "7ce56016-4b55-4a8d-ac78-40f7a98b299d",
   "metadata": {},
   "outputs": [],
   "source": [
    "#  this step is crucial to convert the dataset from a single column of comma-separated items to a more structured format \n",
    "# (a list of items for each transaction), which is essential for association rule mining algorithms to work properly."
   ]
  },
  {
   "cell_type": "code",
   "execution_count": 29,
   "id": "d7c3bcde-c3ae-43ad-9129-9ac41953cdf9",
   "metadata": {},
   "outputs": [],
   "source": [
    "# Split each transaction into a list of items\n",
    "transactions = df.iloc[:, 0].str.split(',')"
   ]
  },
  {
   "cell_type": "code",
   "execution_count": 35,
   "id": "6403b014-d873-4cda-a923-336eab822478",
   "metadata": {},
   "outputs": [
    {
     "name": "stdout",
     "output_type": "stream",
     "text": [
      "   Instant food products  UHT-milk  abrasive cleaner  artif. sweetener  \\\n",
      "0                      0         0                 0                 0   \n",
      "1                      0         0                 0                 0   \n",
      "2                      0         0                 0                 0   \n",
      "3                      0         0                 0                 0   \n",
      "4                      0         0                 1                 0   \n",
      "\n",
      "   baby cosmetics  baby food  bags  baking powder  bathroom cleaner  beef  \\\n",
      "0               0          0     0              0                 0     0   \n",
      "1               0          0     0              0                 0     0   \n",
      "2               0          0     0              0                 0     0   \n",
      "3               0          0     0              0                 0     0   \n",
      "4               0          0     0              0                 0     0   \n",
      "\n",
      "   ...  turkey  vinegar  waffles  whipped/sour cream  whisky  white bread  \\\n",
      "0  ...       0        0        0                   0       0            0   \n",
      "1  ...       0        0        0                   0       0            0   \n",
      "2  ...       0        0        0                   0       0            0   \n",
      "3  ...       0        0        0                   0       0            0   \n",
      "4  ...       0        0        0                   0       0            0   \n",
      "\n",
      "   white wine  whole milk  yogurt  zwieback  \n",
      "0           0           0       1         0  \n",
      "1           0           1       0         0  \n",
      "2           0           0       1         0  \n",
      "3           0           1       0         0  \n",
      "4           0           1       1         0  \n",
      "\n",
      "[5 rows x 169 columns]\n"
     ]
    }
   ],
   "source": [
    "# Get all unique items\n",
    "unique_items = sorted(set(item for transaction in transactions for item in transaction))\n",
    "\n",
    "# Create a one-hot encoded DataFrame\n",
    "encoded_data = [{item: (item in transaction) for item in unique_items} for transaction in transactions]\n",
    "df_encoded = pd.DataFrame(encoded_data).astype(int)\n",
    "print(df_encoded.head())"
   ]
  },
  {
   "cell_type": "code",
   "execution_count": 37,
   "id": "ec8d8112-649f-456e-ae31-3ea4459593ed",
   "metadata": {},
   "outputs": [
    {
     "name": "stdout",
     "output_type": "stream",
     "text": [
      "whole milk\n",
      "2222\n"
     ]
    }
   ],
   "source": [
    "# 1. Finding the most frequent items\n",
    "item_frequencies = df_encoded.sum(axis=0).sort_values(ascending=False)\n",
    "max_frequent_item = item_frequencies.idxmax()\n",
    "print(max_frequent_item)\n",
    "max_frequent_item_frequency = item_frequencies.max()\n",
    "print(max_frequent_item_frequency)\n"
   ]
  },
  {
   "cell_type": "code",
   "execution_count": 39,
   "id": "41e58bbd-7dc5-4116-bffb-851dae5e9fd8",
   "metadata": {},
   "outputs": [
    {
     "name": "stdout",
     "output_type": "stream",
     "text": [
      "7010\n"
     ]
    }
   ],
   "source": [
    "# 2. How many transactions does it contain\n",
    "num_transactions = len(transactions)\n",
    "print(num_transactions)"
   ]
  },
  {
   "cell_type": "code",
   "execution_count": 41,
   "id": "ae01a7d9-5409-44ad-938f-dade250fd40a",
   "metadata": {},
   "outputs": [
    {
     "name": "stderr",
     "output_type": "stream",
     "text": [
      "C:\\Users\\anuradha\\anaconda3\\Lib\\site-packages\\mlxtend\\frequent_patterns\\fpcommon.py:109: DeprecationWarning: DataFrames with non-bool types result in worse computationalperformance and their support might be discontinued in the future.Please use a DataFrame with bool type\n",
      "  warnings.warn(\n"
     ]
    },
    {
     "name": "stdout",
     "output_type": "stream",
     "text": [
      "      support                                itemsets\n",
      "0    0.180314                                (yogurt)\n",
      "1    0.139372                        (tropical fruit)\n",
      "2    0.072040                                (coffee)\n",
      "3    0.316976                            (whole milk)\n",
      "4    0.099001                             (pip fruit)\n",
      "..        ...                                     ...\n",
      "102  0.039800  (whipped/sour cream, other vegetables)\n",
      "103  0.030813                      (pork, whole milk)\n",
      "104  0.041655             (whole milk, domestic eggs)\n",
      "105  0.031098       (other vegetables, domestic eggs)\n",
      "106  0.033666                 (whole milk, margarine)\n",
      "\n",
      "[107 rows x 2 columns]\n"
     ]
    }
   ],
   "source": [
    "# 3. Simulating frequent patterns using FP-Growth\n",
    "frequent_itemsets_fp = fpgrowth(df_encoded, min_support=0.03, use_colnames=True)\n",
    "print(frequent_itemsets_fp)"
   ]
  },
  {
   "cell_type": "code",
   "execution_count": 43,
   "id": "332ad2a3-70fd-4155-9fad-69ace72f1d1b",
   "metadata": {},
   "outputs": [
    {
     "name": "stdout",
     "output_type": "stream",
     "text": [
      "             antecedents         consequents  antecedent support  \\\n",
      "0           (whole milk)            (yogurt)            0.316976   \n",
      "1               (yogurt)        (whole milk)            0.180314   \n",
      "2               (yogurt)              (soda)            0.180314   \n",
      "3           (rolls/buns)            (yogurt)            0.211555   \n",
      "4               (yogurt)        (rolls/buns)            0.180314   \n",
      "..                   ...                 ...                 ...   \n",
      "61  (whipped/sour cream)  (other vegetables)            0.094151   \n",
      "62                (pork)        (whole milk)            0.075321   \n",
      "63       (domestic eggs)        (whole milk)            0.086305   \n",
      "64       (domestic eggs)  (other vegetables)            0.086305   \n",
      "65           (margarine)        (whole milk)            0.079886   \n",
      "\n",
      "    consequent support   support  confidence      lift  leverage  conviction  \\\n",
      "0             0.180314  0.076890    0.242574  1.345289  0.019735    1.082200   \n",
      "1             0.316976  0.076890    0.426424  1.345289  0.019735    1.190817   \n",
      "2             0.195720  0.037803    0.209652  1.071181  0.002512    1.017627   \n",
      "3             0.180314  0.046505    0.219825  1.219123  0.008359    1.050644   \n",
      "4             0.211555  0.046505    0.257911  1.219123  0.008359    1.062468   \n",
      "..                 ...       ...         ...       ...       ...         ...   \n",
      "61            0.251926  0.039800    0.422727  1.677983  0.016081    1.295877   \n",
      "62            0.316976  0.030813    0.409091  1.290606  0.006938    1.155887   \n",
      "63            0.316976  0.041655    0.482645  1.522655  0.014298    1.320223   \n",
      "64            0.251926  0.031098    0.360331  1.430304  0.009356    1.169470   \n",
      "65            0.316976  0.033666    0.421429  1.329529  0.008344    1.180536   \n",
      "\n",
      "    zhangs_metric  \n",
      "0        0.375778  \n",
      "1        0.313126  \n",
      "2        0.081068  \n",
      "3        0.227965  \n",
      "4        0.219277  \n",
      "..            ...  \n",
      "61       0.446042  \n",
      "62       0.243512  \n",
      "63       0.375675  \n",
      "64       0.329265  \n",
      "65       0.269373  \n",
      "\n",
      "[66 rows x 10 columns]\n"
     ]
    }
   ],
   "source": [
    "# Generate association rules based on frequent itemsets\n",
    "association_rules_fp = association_rules(frequent_itemsets_fp, metric=\"confidence\", min_threshold=0.2)\n",
    "print(association_rules_fp)"
   ]
  },
  {
   "cell_type": "code",
   "execution_count": 45,
   "id": "b5f0d5a2-ca1a-45e4-96d9-c7b18a16f2fe",
   "metadata": {},
   "outputs": [
    {
     "name": "stdout",
     "output_type": "stream",
     "text": [
      "      support                                         itemsets\n",
      "0    0.044650                                       (UHT-milk)\n",
      "1    0.068616                                           (beef)\n",
      "2    0.044223                                        (berries)\n",
      "3    0.030813                                      (beverages)\n",
      "4    0.084165                                   (bottled beer)\n",
      "..        ...                                              ...\n",
      "102  0.040799                         (yogurt, tropical fruit)\n",
      "103  0.044223                 (whipped/sour cream, whole milk)\n",
      "104  0.076890                             (whole milk, yogurt)\n",
      "105  0.032525  (root vegetables, whole milk, other vegetables)\n",
      "106  0.031098           (whole milk, other vegetables, yogurt)\n",
      "\n",
      "[107 rows x 2 columns]\n"
     ]
    },
    {
     "name": "stderr",
     "output_type": "stream",
     "text": [
      "C:\\Users\\anuradha\\anaconda3\\Lib\\site-packages\\mlxtend\\frequent_patterns\\fpcommon.py:109: DeprecationWarning: DataFrames with non-bool types result in worse computationalperformance and their support might be discontinued in the future.Please use a DataFrame with bool type\n",
      "  warnings.warn(\n"
     ]
    }
   ],
   "source": [
    "# Apply Apriori to get frequent itemsets\n",
    "frequent_itemsets_apriori = apriori(df_encoded, min_support=0.03, use_colnames=True)\n",
    "print(frequent_itemsets_apriori)"
   ]
  },
  {
   "cell_type": "code",
   "execution_count": 47,
   "id": "7874f9c4-fad6-424c-b79d-3ee171cfa5f8",
   "metadata": {},
   "outputs": [
    {
     "name": "stdout",
     "output_type": "stream",
     "text": [
      "                       antecedents                     consequents  \\\n",
      "0                  (bottled water)              (other vegetables)   \n",
      "1                  (bottled water)                    (rolls/buns)   \n",
      "2                  (bottled water)                          (soda)   \n",
      "3                  (bottled water)                    (whole milk)   \n",
      "4                  (bottled water)                        (yogurt)   \n",
      "..                             ...                             ...   \n",
      "61  (whole milk, other vegetables)               (root vegetables)   \n",
      "62               (root vegetables)  (whole milk, other vegetables)   \n",
      "63  (whole milk, other vegetables)                        (yogurt)   \n",
      "64            (whole milk, yogurt)              (other vegetables)   \n",
      "65      (other vegetables, yogurt)                    (whole milk)   \n",
      "\n",
      "    antecedent support  consequent support   support  confidence      lift  \\\n",
      "0             0.134665            0.251926  0.034665    0.257415  1.021790   \n",
      "1             0.134665            0.211555  0.032525    0.241525  1.141668   \n",
      "2             0.134665            0.195720  0.037660    0.279661  1.428880   \n",
      "3             0.134665            0.316976  0.046505    0.345339  1.089481   \n",
      "4             0.134665            0.180314  0.031384    0.233051  1.292473   \n",
      "..                 ...                 ...       ...         ...       ...   \n",
      "61            0.103566            0.146648  0.032525    0.314050  2.141525   \n",
      "62            0.146648            0.103566  0.032525    0.221790  2.141525   \n",
      "63            0.103566            0.180314  0.031098    0.300275  1.665294   \n",
      "64            0.076890            0.251926  0.031098    0.404453  1.605444   \n",
      "65            0.059772            0.316976  0.031098    0.520286  1.641408   \n",
      "\n",
      "    leverage  conviction  zhangs_metric  \n",
      "0   0.000739    1.007392       0.024644  \n",
      "1   0.004036    1.039514       0.143399  \n",
      "2   0.011304    1.116529       0.346861  \n",
      "3   0.003820    1.043325       0.094913  \n",
      "4   0.007102    1.068762       0.261505  \n",
      "..       ...         ...            ...  \n",
      "61  0.017337    1.244044       0.594626  \n",
      "62  0.017337    1.151917       0.624646  \n",
      "63  0.012424    1.171441       0.445661  \n",
      "64  0.011728    1.256112       0.408531  \n",
      "65  0.012152    1.423817       0.415608  \n",
      "\n",
      "[66 rows x 10 columns]\n"
     ]
    }
   ],
   "source": [
    "# Generate association rules for Apriori\n",
    "association_rules_apriori = association_rules(frequent_itemsets_apriori, metric=\"confidence\", min_threshold=0.2)\n",
    "print(association_rules_apriori)"
   ]
  },
  {
   "cell_type": "code",
   "execution_count": 99,
   "id": "1c045a00-dfff-4f06-8bc7-ee3cf691d765",
   "metadata": {},
   "outputs": [
    {
     "name": "stdout",
     "output_type": "stream",
     "text": [
      "\n",
      "Comparative Analysis:\n",
      "1. FP-tree generally requires fewer passes through the data (only 2) compared to Apriori, which makes it faster.\n",
      "2. FP-tree can handle large datasets more efficiently due to its tree structure and avoids the generation of candidate itemsets.\n",
      "3. Apriori can become inefficient with larger datasets due to candidate generation and multiple passes.\n"
     ]
    }
   ],
   "source": [
    "# 4. Comparative Analysis: FP-tree vs Apriori\n",
    "print(\"\\nComparative Analysis:\")\n",
    "print(\"1. FP-tree generally requires fewer passes through the data (only 2) compared to Apriori, which makes it faster.\")\n",
    "print(\"2. FP-tree can handle large datasets more efficiently due to its tree structure and avoids the generation of candidate itemsets.\")\n",
    "print(\"3. Apriori can become inefficient with larger datasets due to candidate generation and multiple passes.\")"
   ]
  },
  {
   "cell_type": "code",
   "execution_count": null,
   "id": "e9563dce-1de8-4b3d-8508-3391f7fe6b83",
   "metadata": {},
   "outputs": [],
   "source": []
  },
  {
   "cell_type": "code",
   "execution_count": null,
   "id": "0ecab8df-740a-4947-9f95-1de1d9767963",
   "metadata": {},
   "outputs": [],
   "source": []
  },
  {
   "cell_type": "code",
   "execution_count": null,
   "id": "1511a1b8-01d8-4b27-8a71-aeec8011ff4e",
   "metadata": {},
   "outputs": [],
   "source": []
  }
 ],
 "metadata": {
  "kernelspec": {
   "display_name": "Python 3 (ipykernel)",
   "language": "python",
   "name": "python3"
  },
  "language_info": {
   "codemirror_mode": {
    "name": "ipython",
    "version": 3
   },
   "file_extension": ".py",
   "mimetype": "text/x-python",
   "name": "python",
   "nbconvert_exporter": "python",
   "pygments_lexer": "ipython3",
   "version": "3.12.3"
  }
 },
 "nbformat": 4,
 "nbformat_minor": 5
}
