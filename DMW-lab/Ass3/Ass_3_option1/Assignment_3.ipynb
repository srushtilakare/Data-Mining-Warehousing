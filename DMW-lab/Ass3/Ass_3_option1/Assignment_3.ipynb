{
 "cells": [
  {
   "cell_type": "code",
   "execution_count": 1,
   "id": "776f19e2",
   "metadata": {},
   "outputs": [],
   "source": [
    "# Import required libraries\n",
    "import pandas as pd\n",
    "from mlxtend.preprocessing import TransactionEncoder   #convert transactional data into one-hot encoded format\n",
    "from mlxtend.frequent_patterns import fpgrowth, apriori, association_rules\n",
    "import matplotlib.pyplot as plt"
   ]
  },
  {
   "cell_type": "code",
   "execution_count": 2,
   "id": "f2d59705",
   "metadata": {},
   "outputs": [],
   "source": [
    "# load the trasction dataset\n",
    "df=pd.read_csv(\"groceries.csv\")"
   ]
  },
  {
   "cell_type": "code",
   "execution_count": 3,
   "id": "096c1988",
   "metadata": {},
   "outputs": [
    {
     "data": {
      "text/html": [
       "<div>\n",
       "<style scoped>\n",
       "    .dataframe tbody tr th:only-of-type {\n",
       "        vertical-align: middle;\n",
       "    }\n",
       "\n",
       "    .dataframe tbody tr th {\n",
       "        vertical-align: top;\n",
       "    }\n",
       "\n",
       "    .dataframe thead th {\n",
       "        text-align: right;\n",
       "    }\n",
       "</style>\n",
       "<table border=\"1\" class=\"dataframe\">\n",
       "  <thead>\n",
       "    <tr style=\"text-align: right;\">\n",
       "      <th></th>\n",
       "      <th>Item(s)</th>\n",
       "      <th>Item 1</th>\n",
       "      <th>Item 2</th>\n",
       "      <th>Item 3</th>\n",
       "      <th>Item 4</th>\n",
       "      <th>Item 5</th>\n",
       "      <th>Item 6</th>\n",
       "      <th>Item 7</th>\n",
       "      <th>Item 8</th>\n",
       "      <th>Item 9</th>\n",
       "      <th>...</th>\n",
       "      <th>Item 23</th>\n",
       "      <th>Item 24</th>\n",
       "      <th>Item 25</th>\n",
       "      <th>Item 26</th>\n",
       "      <th>Item 27</th>\n",
       "      <th>Item 28</th>\n",
       "      <th>Item 29</th>\n",
       "      <th>Item 30</th>\n",
       "      <th>Item 31</th>\n",
       "      <th>Item 32</th>\n",
       "    </tr>\n",
       "  </thead>\n",
       "  <tbody>\n",
       "    <tr>\n",
       "      <th>0</th>\n",
       "      <td>4</td>\n",
       "      <td>citrus fruit</td>\n",
       "      <td>semi-finished bread</td>\n",
       "      <td>margarine</td>\n",
       "      <td>ready soups</td>\n",
       "      <td>NaN</td>\n",
       "      <td>NaN</td>\n",
       "      <td>NaN</td>\n",
       "      <td>NaN</td>\n",
       "      <td>NaN</td>\n",
       "      <td>...</td>\n",
       "      <td>NaN</td>\n",
       "      <td>NaN</td>\n",
       "      <td>NaN</td>\n",
       "      <td>NaN</td>\n",
       "      <td>NaN</td>\n",
       "      <td>NaN</td>\n",
       "      <td>NaN</td>\n",
       "      <td>NaN</td>\n",
       "      <td>NaN</td>\n",
       "      <td>NaN</td>\n",
       "    </tr>\n",
       "    <tr>\n",
       "      <th>1</th>\n",
       "      <td>3</td>\n",
       "      <td>tropical fruit</td>\n",
       "      <td>yogurt</td>\n",
       "      <td>coffee</td>\n",
       "      <td>NaN</td>\n",
       "      <td>NaN</td>\n",
       "      <td>NaN</td>\n",
       "      <td>NaN</td>\n",
       "      <td>NaN</td>\n",
       "      <td>NaN</td>\n",
       "      <td>...</td>\n",
       "      <td>NaN</td>\n",
       "      <td>NaN</td>\n",
       "      <td>NaN</td>\n",
       "      <td>NaN</td>\n",
       "      <td>NaN</td>\n",
       "      <td>NaN</td>\n",
       "      <td>NaN</td>\n",
       "      <td>NaN</td>\n",
       "      <td>NaN</td>\n",
       "      <td>NaN</td>\n",
       "    </tr>\n",
       "    <tr>\n",
       "      <th>2</th>\n",
       "      <td>1</td>\n",
       "      <td>whole milk</td>\n",
       "      <td>NaN</td>\n",
       "      <td>NaN</td>\n",
       "      <td>NaN</td>\n",
       "      <td>NaN</td>\n",
       "      <td>NaN</td>\n",
       "      <td>NaN</td>\n",
       "      <td>NaN</td>\n",
       "      <td>NaN</td>\n",
       "      <td>...</td>\n",
       "      <td>NaN</td>\n",
       "      <td>NaN</td>\n",
       "      <td>NaN</td>\n",
       "      <td>NaN</td>\n",
       "      <td>NaN</td>\n",
       "      <td>NaN</td>\n",
       "      <td>NaN</td>\n",
       "      <td>NaN</td>\n",
       "      <td>NaN</td>\n",
       "      <td>NaN</td>\n",
       "    </tr>\n",
       "    <tr>\n",
       "      <th>3</th>\n",
       "      <td>4</td>\n",
       "      <td>pip fruit</td>\n",
       "      <td>yogurt</td>\n",
       "      <td>cream cheese</td>\n",
       "      <td>meat spreads</td>\n",
       "      <td>NaN</td>\n",
       "      <td>NaN</td>\n",
       "      <td>NaN</td>\n",
       "      <td>NaN</td>\n",
       "      <td>NaN</td>\n",
       "      <td>...</td>\n",
       "      <td>NaN</td>\n",
       "      <td>NaN</td>\n",
       "      <td>NaN</td>\n",
       "      <td>NaN</td>\n",
       "      <td>NaN</td>\n",
       "      <td>NaN</td>\n",
       "      <td>NaN</td>\n",
       "      <td>NaN</td>\n",
       "      <td>NaN</td>\n",
       "      <td>NaN</td>\n",
       "    </tr>\n",
       "  </tbody>\n",
       "</table>\n",
       "<p>4 rows × 33 columns</p>\n",
       "</div>"
      ],
      "text/plain": [
       "   Item(s)          Item 1               Item 2        Item 3        Item 4  \\\n",
       "0        4    citrus fruit  semi-finished bread     margarine   ready soups   \n",
       "1        3  tropical fruit               yogurt        coffee           NaN   \n",
       "2        1      whole milk                  NaN           NaN           NaN   \n",
       "3        4       pip fruit               yogurt  cream cheese  meat spreads   \n",
       "\n",
       "  Item 5 Item 6 Item 7 Item 8 Item 9  ... Item 23 Item 24 Item 25 Item 26  \\\n",
       "0    NaN    NaN    NaN    NaN    NaN  ...     NaN     NaN     NaN     NaN   \n",
       "1    NaN    NaN    NaN    NaN    NaN  ...     NaN     NaN     NaN     NaN   \n",
       "2    NaN    NaN    NaN    NaN    NaN  ...     NaN     NaN     NaN     NaN   \n",
       "3    NaN    NaN    NaN    NaN    NaN  ...     NaN     NaN     NaN     NaN   \n",
       "\n",
       "  Item 27 Item 28 Item 29 Item 30 Item 31 Item 32  \n",
       "0     NaN     NaN     NaN     NaN     NaN     NaN  \n",
       "1     NaN     NaN     NaN     NaN     NaN     NaN  \n",
       "2     NaN     NaN     NaN     NaN     NaN     NaN  \n",
       "3     NaN     NaN     NaN     NaN     NaN     NaN  \n",
       "\n",
       "[4 rows x 33 columns]"
      ]
     },
     "execution_count": 3,
     "metadata": {},
     "output_type": "execute_result"
    }
   ],
   "source": [
    "#contain 1st 4 rows of transaction\n",
    "df.head(4)"
   ]
  },
  {
   "cell_type": "markdown",
   "id": "b4af1da6",
   "metadata": {},
   "source": [
    "Transcation rows description-->\n",
    "\n",
    "Index: 0\n",
    "\n",
    "Item(s): 4\n",
    "\n",
    "Item 1: citrus fruit\n",
    "\n",
    "Item 2: semi-finished bread\n",
    "\n",
    "Item 3: margarine\n",
    "\n",
    "Item 4: ready soups\n",
    "\n",
    "Item 5 to Item 32: NaN (no more items)"
   ]
  },
  {
   "cell_type": "code",
   "execution_count": 4,
   "id": "d0990580",
   "metadata": {},
   "outputs": [
    {
     "data": {
      "text/plain": [
       "Index(['Item(s)', 'Item 1', 'Item 2', 'Item 3', 'Item 4', 'Item 5', 'Item 6',\n",
       "       'Item 7', 'Item 8', 'Item 9', 'Item 10', 'Item 11', 'Item 12',\n",
       "       'Item 13', 'Item 14', 'Item 15', 'Item 16', 'Item 17', 'Item 18',\n",
       "       'Item 19', 'Item 20', 'Item 21', 'Item 22', 'Item 23', 'Item 24',\n",
       "       'Item 25', 'Item 26', 'Item 27', 'Item 28', 'Item 29', 'Item 30',\n",
       "       'Item 31', 'Item 32'],\n",
       "      dtype='object')"
      ]
     },
     "execution_count": 4,
     "metadata": {},
     "output_type": "execute_result"
    }
   ],
   "source": [
    "#all columns in transaction\n",
    "df.columns"
   ]
  },
  {
   "cell_type": "markdown",
   "id": "d36a10d6",
   "metadata": {},
   "source": [
    "'Item(s)': Likely stores the count of items in the transaction (not an item itself).\n",
    "\n",
    "'Item 1' to 'Item 32': These are the actual items purchased in that transaction."
   ]
  },
  {
   "cell_type": "code",
   "execution_count": 5,
   "id": "9aff790e",
   "metadata": {},
   "outputs": [],
   "source": [
    "# Drop 'Item(s)' column because  not needed for FP-Growth or Apriori--> we can just count items directly\n",
    "if 'Item(s)' in df.columns:\n",
    "    df = df.drop(columns=['Item(s)'])"
   ]
  },
  {
   "cell_type": "code",
   "execution_count": 6,
   "id": "57dac050",
   "metadata": {},
   "outputs": [
    {
     "data": {
      "text/plain": [
       "(9835, 32)"
      ]
     },
     "execution_count": 6,
     "metadata": {},
     "output_type": "execute_result"
    }
   ],
   "source": [
    "#shape of trasaction\n",
    "df.shape"
   ]
  },
  {
   "cell_type": "markdown",
   "id": "acc09000",
   "metadata": {},
   "source": [
    "The dataset contain 9835 transactions and 33 columns."
   ]
  },
  {
   "cell_type": "markdown",
   "id": "8856e09d",
   "metadata": {},
   "source": [
    "# Preprocess the data"
   ]
  },
  {
   "cell_type": "code",
   "execution_count": 7,
   "id": "a0658503",
   "metadata": {},
   "outputs": [],
   "source": [
    "# Convert each row into a list of items, removing NaNs\n",
    "transactions = df.apply(lambda row: row.dropna().tolist(), axis=1).tolist()"
   ]
  },
  {
   "cell_type": "code",
   "execution_count": 8,
   "id": "8c393b21",
   "metadata": {},
   "outputs": [],
   "source": [
    "# One-hot encoding using TransactionEncoder\n",
    "te = TransactionEncoder()\n",
    "te_array = te.fit(transactions).transform(transactions)\n",
    "df_encoded = pd.DataFrame(te_array, columns=te.columns_)"
   ]
  },
  {
   "cell_type": "markdown",
   "id": "11cc32e9",
   "metadata": {},
   "source": [
    " One-hot encode the transactions: Convert transactions into a matrix of binary values representing item presence.\n",
    " \n",
    " If the item is present in a transaction, it gets a value of 1; otherwise, it gets a value of 0."
   ]
  },
  {
   "cell_type": "code",
   "execution_count": 9,
   "id": "417ab237",
   "metadata": {},
   "outputs": [],
   "source": [
    "#Remove infrequent items below min_support\n",
    "min_support = 0.01\n",
    "frequent_items = fpgrowth(df_encoded, min_support=min_support, use_colnames=True)"
   ]
  },
  {
   "cell_type": "markdown",
   "id": "d5021a63",
   "metadata": {},
   "source": [
    "Set min_support = 0.01 means an itemset must appear in at least 1% of the total transactions to be considered frequent.\n",
    "\n",
    "fpgrowth() function from the mlxtend library uses the FP-Growth algorithm to find frequent itemsets from the one-hot encoded DataFrame i.e. df_encoded"
   ]
  },
  {
   "cell_type": "code",
   "execution_count": 10,
   "id": "6929d01c",
   "metadata": {},
   "outputs": [],
   "source": [
    "#Extract the Frequent Items List\n",
    "frequent_items_list = set(item for sublist in frequent_items['itemsets'] for item in sublist)"
   ]
  },
  {
   "cell_type": "markdown",
   "id": "202673c8",
   "metadata": {},
   "source": [
    "frequent_items_list is a set containing all the frequent items that appear in the dataset (after applying the minimum support threshold)."
   ]
  },
  {
   "cell_type": "code",
   "execution_count": 11,
   "id": "1934f290",
   "metadata": {},
   "outputs": [],
   "source": [
    "# Filter transactions to contain only frequent items\n",
    "filtered_transactions = []      #Initializes an empty list to hold the filtered transactions\n",
    "for transaction in transactions:\n",
    "    filtered = sorted([item for item in transaction if item in frequent_items_list], key=lambda x: -df_encoded[x].sum())\n",
    "    if filtered:\n",
    "        filtered_transactions.append(filtered)"
   ]
  },
  {
   "cell_type": "markdown",
   "id": "9684010a",
   "metadata": {},
   "source": [
    "filtered_transactions list contains only the transactions that contain frequent items (according to the minimum support threshold), and the items are sorted by their frequency."
   ]
  },
  {
   "cell_type": "markdown",
   "id": "7a3263fb",
   "metadata": {},
   "source": [
    "# Construct FP-Tree"
   ]
  },
  {
   "cell_type": "markdown",
   "id": "908248ec",
   "metadata": {},
   "source": [
    "Construct FP-Tree---->Not shown in raw form, done implicitly inside fpgrowth algorithm\n",
    "# Apply FP-Growth"
   ]
  },
  {
   "cell_type": "code",
   "execution_count": 21,
   "id": "563219b4",
   "metadata": {},
   "outputs": [],
   "source": [
    "# Apply FP-Growth to mine frequent itemsets\n",
    "frequent_itemsets_fp = fpgrowth(df_encoded, min_support=0.02, use_colnames=True)"
   ]
  },
  {
   "cell_type": "markdown",
   "id": "dcccdb45",
   "metadata": {},
   "source": [
    "The FP-Growth algorithm is applied to the one-hot encoded transaction data to find frequent itemsets based on the given minimum support."
   ]
  },
  {
   "cell_type": "code",
   "execution_count": 22,
   "id": "bb677f82",
   "metadata": {},
   "outputs": [],
   "source": [
    "# Add itemset length column\n",
    "frequent_itemsets_fp['length'] = frequent_itemsets_fp['itemsets'].apply(lambda x: len(x))"
   ]
  },
  {
   "cell_type": "markdown",
   "id": "5bcd64b4",
   "metadata": {},
   "source": [
    "A new column is added to the DataFrame to store the length of each itemset (i.e., the number of items in each itemset)."
   ]
  },
  {
   "cell_type": "code",
   "execution_count": 24,
   "id": "4c2efaec",
   "metadata": {},
   "outputs": [
    {
     "name": "stdout",
     "output_type": "stream",
     "text": [
      "Q1: Max Frequent Itemset(s):\n",
      "       support                                         itemsets  length\n",
      "67   0.022267           (yogurt, other vegetables, whole milk)       3\n",
      "105  0.023183  (whole milk, other vegetables, root vegetables)       3\n"
     ]
    }
   ],
   "source": [
    "# Q1: Max frequent itemset--> It filters out the itemsets that have the max no. of items and prints those itemsets as the res\n",
    "max_len = frequent_itemsets_fp['length'].max()\n",
    "max_freq_itemsets = frequent_itemsets_fp[frequent_itemsets_fp['length'] == max_len]\n",
    "print(\"Q1: Max Frequent Itemset(s):\\n\", max_freq_itemsets)"
   ]
  },
  {
   "cell_type": "markdown",
   "id": "eb49985e",
   "metadata": {},
   "source": [
    "Observation:\n",
    "\n",
    "The max frequent itemsets (with a length of 3) consist of combinations of commonly bought items, such as:\n",
    "\n",
    "Dairy products like whole milk, yogurt, and butter, Vegetables like other vegetables and root vegetables, Other food items like citrus fruit, rolls/buns, and soda.\n",
    "\n",
    "These itemsets suggest that customers often purchase multiple dairy products, vegetables, and certain complementary food items (e.g., rolls/buns or tropical fruit) together.\n",
    "\n",
    "The support values of these itemsets range from 0.01 to 0.02, indicating that these combinations appear in 1-2% of the transactions in the dataset."
   ]
  },
  {
   "cell_type": "code",
   "execution_count": 25,
   "id": "cab55c49",
   "metadata": {},
   "outputs": [
    {
     "name": "stdout",
     "output_type": "stream",
     "text": [
      "\n",
      "Q2: Number of transactions containing max itemset: 219\n"
     ]
    }
   ],
   "source": [
    "# Q2: Transactions containing max frequent itemset\n",
    "max_itemset = list(max_freq_itemsets.iloc[0]['itemsets'])\n",
    "df_encoded['contains_max'] = df_encoded[max_itemset].all(axis=1)\n",
    "num_transactions_containing_max = df_encoded['contains_max'].sum()\n",
    "print(\"\\nQ2: Number of transactions containing max itemset:\", num_transactions_containing_max)"
   ]
  },
  {
   "cell_type": "markdown",
   "id": "9fe96474",
   "metadata": {},
   "source": [
    "Observation:\n",
    "\n",
    "The code identifies the maximum frequent itemset (from Q1) and checks how many transactions contain all the items in this itemset.\n",
    "\n",
    "The result, 219 transactions, indicates that the combination of items in the max frequent itemset appears in 101 transactions in the dataset. This means these items were frequently purchased together in this number of transactions."
   ]
  },
  {
   "cell_type": "markdown",
   "id": "54f9b1c7",
   "metadata": {},
   "source": [
    "# Simulate Frequent Patterns"
   ]
  },
  {
   "cell_type": "code",
   "execution_count": 26,
   "id": "2f2efd5c",
   "metadata": {},
   "outputs": [
    {
     "data": {
      "image/png": "[encoded data removed]",
      "text/plain": [
       "<Figure size 640x480 with 1 Axes>"
      ]
     },
     "metadata": {},
     "output_type": "display_data"
    }
   ],
   "source": [
    "# Plot top 10 frequent items\n",
    "item_freq = df_encoded.drop(columns='contains_max').sum().sort_values(ascending=False).head(10)\n",
    "item_freq.plot(kind='bar', title='Top 10 Frequent Items')\n",
    "plt.xlabel('Items')\n",
    "plt.ylabel('Frequency')\n",
    "plt.tight_layout()\n",
    "plt.show()"
   ]
  },
  {
   "cell_type": "markdown",
   "id": "cf1fbd6d",
   "metadata": {},
   "source": [
    "Explaination :\n",
    "\n",
    "The bar graph which plot top 10 frequent top 10 itemsets,\n",
    "\n",
    "Here whole milk has higher frequency then other vagetables likewise."
   ]
  },
  {
   "cell_type": "code",
   "execution_count": 27,
   "id": "8bdb69d7",
   "metadata": {},
   "outputs": [
    {
     "name": "stdout",
     "output_type": "stream",
     "text": [
      "\n",
      "Q3: Sample Association Rules from FP-Growth:\n",
      "       antecedents         consequents   support  confidence      lift\n",
      "0  (citrus fruit)        (whole milk)  0.030503    0.368550  1.442377\n",
      "1    (whole milk)      (citrus fruit)  0.030503    0.119379  1.442377\n",
      "2        (yogurt)      (citrus fruit)  0.021657    0.155248  1.875752\n",
      "3  (citrus fruit)            (yogurt)  0.021657    0.261671  1.875752\n",
      "4  (citrus fruit)  (other vegetables)  0.028876    0.348894  1.803140\n"
     ]
    }
   ],
   "source": [
    "# Generate association rules\n",
    "rules_fp = association_rules(frequent_itemsets_fp, metric='lift', min_threshold=1.0)\n",
    "print(\"\\nQ3: Sample Association Rules from FP-Growth:\\n\", rules_fp[['antecedents', 'consequents', 'support', 'confidence', 'lift']].head())"
   ]
  },
  {
   "cell_type": "markdown",
   "id": "4030e975",
   "metadata": {},
   "source": [
    "Observation:\n",
    "\n",
    "The association rules generated using the FP-Growth algorithm show the relationships between items that are frequently bought together.\n",
    "\n",
    "For example:\n",
    "\n",
    "Citrus fruit → Whole milk: 30.5% of transactions contain citrus fruit, and 36.9% of those also include whole milk. with lift of 1.44 means this is a moderately strong association. , Etc."
   ]
  },
  {
   "cell_type": "markdown",
   "id": "ea525865",
   "metadata": {},
   "source": [
    "# Compare with Apriori"
   ]
  },
  {
   "cell_type": "code",
   "execution_count": 55,
   "id": "3af16882",
   "metadata": {},
   "outputs": [],
   "source": [
    "# Compare with Apriori algorithm\n",
    "frequent_itemsets_ap = apriori(df_encoded.drop(columns=['contains_max']), min_support=0.1, use_colnames=True)\n",
    "rules_ap = association_rules(frequent_itemsets_ap, metric='lift', min_threshold=0.2)"
   ]
  },
  {
   "cell_type": "code",
   "execution_count": 56,
   "id": "82b8bd2f",
   "metadata": {},
   "outputs": [
    {
     "name": "stdout",
     "output_type": "stream",
     "text": [
      "\n",
      "Q4: Sample Association Rules from Apriori:\n",
      " Empty DataFrame\n",
      "Columns: [antecedents, consequents, support, confidence, lift]\n",
      "Index: []\n"
     ]
    }
   ],
   "source": [
    "print(\"\\nQ4: Sample Association Rules from Apriori:\\n\", rules_ap[['antecedents', 'consequents', 'support', 'confidence', 'lift']].head())"
   ]
  },
  {
   "cell_type": "markdown",
   "id": "a757900a",
   "metadata": {},
   "source": [
    "The association rules generated using the Apriori algorithm show the relationships between items that are frequently bought together, similar to those obtained from FP-Growth. Here is the sample example of association rules:\n",
    "\n",
    "Beef → Other vegetables: 1.97% of transactions contain beef, and 37.6% of those also include other vegetables, with a strong lift of 1.94, indicating a strong positive association."
   ]
  },
  {
   "cell_type": "code",
   "execution_count": 57,
   "id": "ed84953c",
   "metadata": {},
   "outputs": [
    {
     "name": "stdout",
     "output_type": "stream",
     "text": [
      "\n",
      "--- Comparison Summary ---\n",
      "FP-Growth found 122 itemsets.\n",
      "Apriori found 8 itemsets.\n"
     ]
    }
   ],
   "source": [
    "# Comparison Summary\n",
    "print(\"\\n--- Comparison Summary ---\")\n",
    "print(f\"FP-Growth found {len(frequent_itemsets_fp)} itemsets.\")\n",
    "print(f\"Apriori found {len(frequent_itemsets_ap)} itemsets.\")"
   ]
  },
  {
   "cell_type": "markdown",
   "id": "d2c1cb9c",
   "metadata": {},
   "source": [
    "Observation:\n",
    "\n",
    "FP-Growth found 122 itemset and Apriori found 8 itemset, which indicates that algorithms detected the set of frequent itemsets given the specified minimum support threshold.\n",
    "\n",
    "This suggests that while FP-Growth is generally more efficient in processing large datasets by compressing transactions into an FP-tree, in this specific case, the algorithms were able to identify the frequent itemsets with computational results i.e apriori (8) and FP growth(122).\n",
    "\n",
    "the performance in terms of computational speed and memory usage would still differ, with FP-Growth likely being faster due to its tree-based approach."
   ]
  },
  {
   "cell_type": "code",
   "execution_count": null,
   "id": "6a4d8d19",
   "metadata": {},
   "outputs": [],
   "source": []
  }
 ],
 "metadata": {
  "kernelspec": {
   "display_name": "Python 3 (ipykernel)",
   "language": "python",
   "name": "python3"
  },
  "language_info": {
   "codemirror_mode": {
    "name": "ipython",
    "version": 3
   },
   "file_extension": ".py",
   "mimetype": "text/x-python",
   "name": "python",
   "nbconvert_exporter": "python",
   "pygments_lexer": "ipython3",
   "version": "3.9.13"
  }
 },
 "nbformat": 4,
 "nbformat_minor": 5
}
