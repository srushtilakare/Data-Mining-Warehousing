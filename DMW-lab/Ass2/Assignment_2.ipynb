{
 "cells": [
  {
   "cell_type": "code",
   "execution_count": 1,
   "id": "eda75e00",
   "metadata": {},
   "outputs": [],
   "source": [
    "#Import required libraries\n",
    "import pandas as pd\n",
    "import matplotlib.pyplot as plt\n",
    "import seaborn as sns\n",
    "import numpy as np"
   ]
  },
  {
   "cell_type": "code",
   "execution_count": null,
   "id": "e9f954f1",
   "metadata": {},
   "outputs": [],
   "source": [
    "# load the dataset\n",
    "df=pd.read_csv(\"Heart.csv\")"
   ]
  },
  {
   "cell_type": "code",
   "execution_count": 3,
   "id": "cec1f5a3",
   "metadata": {},
   "outputs": [
    {
     "data": {
      "text/html": [
       "<div>\n",
       "<style scoped>\n",
       "    .dataframe tbody tr th:only-of-type {\n",
       "        vertical-align: middle;\n",
       "    }\n",
       "\n",
       "    .dataframe tbody tr th {\n",
       "        vertical-align: top;\n",
       "    }\n",
       "\n",
       "    .dataframe thead th {\n",
       "        text-align: right;\n",
       "    }\n",
       "</style>\n",
       "<table border=\"1\" class=\"dataframe\">\n",
       "  <thead>\n",
       "    <tr style=\"text-align: right;\">\n",
       "      <th></th>\n",
       "      <th>Unnamed: 0</th>\n",
       "      <th>Age</th>\n",
       "      <th>Sex</th>\n",
       "      <th>ChestPain</th>\n",
       "      <th>RestBP</th>\n",
       "      <th>Chol</th>\n",
       "      <th>Fbs</th>\n",
       "      <th>RestECG</th>\n",
       "      <th>MaxHR</th>\n",
       "      <th>ExAng</th>\n",
       "      <th>Oldpeak</th>\n",
       "      <th>Slope</th>\n",
       "      <th>Ca</th>\n",
       "      <th>Thal</th>\n",
       "      <th>AHD</th>\n",
       "    </tr>\n",
       "  </thead>\n",
       "  <tbody>\n",
       "    <tr>\n",
       "      <th>0</th>\n",
       "      <td>1</td>\n",
       "      <td>63</td>\n",
       "      <td>1</td>\n",
       "      <td>typical</td>\n",
       "      <td>145</td>\n",
       "      <td>233</td>\n",
       "      <td>1</td>\n",
       "      <td>2</td>\n",
       "      <td>150</td>\n",
       "      <td>0</td>\n",
       "      <td>2.3</td>\n",
       "      <td>3</td>\n",
       "      <td>0.0</td>\n",
       "      <td>fixed</td>\n",
       "      <td>No</td>\n",
       "    </tr>\n",
       "    <tr>\n",
       "      <th>1</th>\n",
       "      <td>2</td>\n",
       "      <td>67</td>\n",
       "      <td>1</td>\n",
       "      <td>asymptomatic</td>\n",
       "      <td>160</td>\n",
       "      <td>286</td>\n",
       "      <td>0</td>\n",
       "      <td>2</td>\n",
       "      <td>108</td>\n",
       "      <td>1</td>\n",
       "      <td>1.5</td>\n",
       "      <td>2</td>\n",
       "      <td>3.0</td>\n",
       "      <td>normal</td>\n",
       "      <td>Yes</td>\n",
       "    </tr>\n",
       "    <tr>\n",
       "      <th>2</th>\n",
       "      <td>3</td>\n",
       "      <td>67</td>\n",
       "      <td>1</td>\n",
       "      <td>asymptomatic</td>\n",
       "      <td>120</td>\n",
       "      <td>229</td>\n",
       "      <td>0</td>\n",
       "      <td>2</td>\n",
       "      <td>129</td>\n",
       "      <td>1</td>\n",
       "      <td>2.6</td>\n",
       "      <td>2</td>\n",
       "      <td>2.0</td>\n",
       "      <td>reversable</td>\n",
       "      <td>Yes</td>\n",
       "    </tr>\n",
       "    <tr>\n",
       "      <th>3</th>\n",
       "      <td>4</td>\n",
       "      <td>37</td>\n",
       "      <td>1</td>\n",
       "      <td>nonanginal</td>\n",
       "      <td>130</td>\n",
       "      <td>250</td>\n",
       "      <td>0</td>\n",
       "      <td>0</td>\n",
       "      <td>187</td>\n",
       "      <td>0</td>\n",
       "      <td>3.5</td>\n",
       "      <td>3</td>\n",
       "      <td>0.0</td>\n",
       "      <td>normal</td>\n",
       "      <td>No</td>\n",
       "    </tr>\n",
       "    <tr>\n",
       "      <th>4</th>\n",
       "      <td>5</td>\n",
       "      <td>41</td>\n",
       "      <td>0</td>\n",
       "      <td>nontypical</td>\n",
       "      <td>130</td>\n",
       "      <td>204</td>\n",
       "      <td>0</td>\n",
       "      <td>2</td>\n",
       "      <td>172</td>\n",
       "      <td>0</td>\n",
       "      <td>1.4</td>\n",
       "      <td>1</td>\n",
       "      <td>0.0</td>\n",
       "      <td>normal</td>\n",
       "      <td>No</td>\n",
       "    </tr>\n",
       "  </tbody>\n",
       "</table>\n",
       "</div>"
      ],
      "text/plain": [
       "   Unnamed: 0  Age  Sex     ChestPain  RestBP  Chol  Fbs  RestECG  MaxHR  \\\n",
       "0           1   63    1       typical     145   233    1        2    150   \n",
       "1           2   67    1  asymptomatic     160   286    0        2    108   \n",
       "2           3   67    1  asymptomatic     120   229    0        2    129   \n",
       "3           4   37    1    nonanginal     130   250    0        0    187   \n",
       "4           5   41    0    nontypical     130   204    0        2    172   \n",
       "\n",
       "   ExAng  Oldpeak  Slope   Ca        Thal  AHD  \n",
       "0      0      2.3      3  0.0       fixed   No  \n",
       "1      1      1.5      2  3.0      normal  Yes  \n",
       "2      1      2.6      2  2.0  reversable  Yes  \n",
       "3      0      3.5      3  0.0      normal   No  \n",
       "4      0      1.4      1  0.0      normal   No  "
      ]
     },
     "execution_count": 3,
     "metadata": {},
     "output_type": "execute_result"
    }
   ],
   "source": [
    "# print 1st 5 rows\n",
    "df.head(5)"
   ]
  },
  {
   "cell_type": "code",
   "execution_count": 4,
   "id": "8e63c250",
   "metadata": {},
   "outputs": [
    {
     "data": {
      "text/plain": [
       "(303, 15)"
      ]
     },
     "execution_count": 4,
     "metadata": {},
     "output_type": "execute_result"
    }
   ],
   "source": [
    "#print shape of data\n",
    "df.shape"
   ]
  },
  {
   "cell_type": "markdown",
   "id": "b828e4ee",
   "metadata": {},
   "source": [
    "Description of each column:(14 features)\n",
    "\n",
    "1] Age: Age of the patient in years.\n",
    "\n",
    "2] Sex: Gender of the patient (1 = male; 0 = female).\n",
    "\n",
    "3] ChestPain: Type of chest pain experienced, categorized as:\n",
    "\n",
    "0: Typical angina\n",
    "1: Atypical angina\n",
    "2: Non-anginal pain\n",
    "3: Asymptomatic\n",
    "\n",
    "4] RestBP: Resting blood pressure in mm Hg upon hospital admission.\n",
    "\n",
    "5] Chol: Serum cholesterol level in mg/dL.\n",
    "\n",
    "6] Fbs: Fasting blood sugar > 120 mg/dL (1 = true; 0 = false).\n",
    "\n",
    "7] RestECG: Resting electrocardiographic results, with values:\n",
    "\n",
    "0: Normal\n",
    "1: Having ST-T wave abnormality\n",
    "2: Showing probable or definite left ventricular hypertrophy\n",
    "\n",
    "8] MaxHR: Maximum heart rate achieved during exercise.\n",
    "\n",
    "9] ExAng: Exercise-induced angina (1 = yes; 0 = no).\n",
    "\n",
    "10] Oldpeak: ST depression induced by exercise relative to rest.\n",
    "\n",
    "11] Slope: Slope of the peak exercise ST segment, categorized as:\n",
    "\n",
    "0: Upsloping\n",
    "1: Flat\n",
    "2: Downsloping\n",
    "\n",
    "12] Ca: Number of major vessels (0-3) colored by fluoroscopy.\n",
    "\n",
    "13] Thal: Thalassemia status, with values:\n",
    "\n",
    "0: Normal\n",
    "1: Fixed defect\n",
    "2: Reversible defect\n",
    "\n",
    "14] AHD: Presence of heart disease (1 = yes; 0 = no)."
   ]
  },
  {
   "cell_type": "code",
   "execution_count": 5,
   "id": "739e882f",
   "metadata": {},
   "outputs": [
    {
     "name": "stdout",
     "output_type": "stream",
     "text": [
      "<class 'pandas.core.frame.DataFrame'>\n",
      "RangeIndex: 303 entries, 0 to 302\n",
      "Data columns (total 15 columns):\n",
      " #   Column      Non-Null Count  Dtype  \n",
      "---  ------      --------------  -----  \n",
      " 0   Unnamed: 0  303 non-null    int64  \n",
      " 1   Age         303 non-null    int64  \n",
      " 2   Sex         303 non-null    int64  \n",
      " 3   ChestPain   303 non-null    object \n",
      " 4   RestBP      303 non-null    int64  \n",
      " 5   Chol        303 non-null    int64  \n",
      " 6   Fbs         303 non-null    int64  \n",
      " 7   RestECG     303 non-null    int64  \n",
      " 8   MaxHR       303 non-null    int64  \n",
      " 9   ExAng       303 non-null    int64  \n",
      " 10  Oldpeak     303 non-null    float64\n",
      " 11  Slope       303 non-null    int64  \n",
      " 12  Ca          299 non-null    float64\n",
      " 13  Thal        301 non-null    object \n",
      " 14  AHD         303 non-null    object \n",
      "dtypes: float64(2), int64(10), object(3)\n",
      "memory usage: 35.6+ KB\n"
     ]
    }
   ],
   "source": [
    "# print information of dataset\n",
    "df.info()"
   ]
  },
  {
   "cell_type": "code",
   "execution_count": 6,
   "id": "90975457",
   "metadata": {},
   "outputs": [
    {
     "data": {
      "text/html": [
       "<div>\n",
       "<style scoped>\n",
       "    .dataframe tbody tr th:only-of-type {\n",
       "        vertical-align: middle;\n",
       "    }\n",
       "\n",
       "    .dataframe tbody tr th {\n",
       "        vertical-align: top;\n",
       "    }\n",
       "\n",
       "    .dataframe thead th {\n",
       "        text-align: right;\n",
       "    }\n",
       "</style>\n",
       "<table border=\"1\" class=\"dataframe\">\n",
       "  <thead>\n",
       "    <tr style=\"text-align: right;\">\n",
       "      <th></th>\n",
       "      <th>Unnamed: 0</th>\n",
       "      <th>Age</th>\n",
       "      <th>Sex</th>\n",
       "      <th>RestBP</th>\n",
       "      <th>Chol</th>\n",
       "      <th>Fbs</th>\n",
       "      <th>RestECG</th>\n",
       "      <th>MaxHR</th>\n",
       "      <th>ExAng</th>\n",
       "      <th>Oldpeak</th>\n",
       "      <th>Slope</th>\n",
       "      <th>Ca</th>\n",
       "    </tr>\n",
       "  </thead>\n",
       "  <tbody>\n",
       "    <tr>\n",
       "      <th>count</th>\n",
       "      <td>303.000000</td>\n",
       "      <td>303.000000</td>\n",
       "      <td>303.000000</td>\n",
       "      <td>303.000000</td>\n",
       "      <td>303.000000</td>\n",
       "      <td>303.000000</td>\n",
       "      <td>303.000000</td>\n",
       "      <td>303.000000</td>\n",
       "      <td>303.000000</td>\n",
       "      <td>303.000000</td>\n",
       "      <td>303.000000</td>\n",
       "      <td>299.000000</td>\n",
       "    </tr>\n",
       "    <tr>\n",
       "      <th>mean</th>\n",
       "      <td>152.000000</td>\n",
       "      <td>54.438944</td>\n",
       "      <td>0.679868</td>\n",
       "      <td>131.689769</td>\n",
       "      <td>246.693069</td>\n",
       "      <td>0.148515</td>\n",
       "      <td>0.990099</td>\n",
       "      <td>149.607261</td>\n",
       "      <td>0.326733</td>\n",
       "      <td>1.039604</td>\n",
       "      <td>1.600660</td>\n",
       "      <td>0.672241</td>\n",
       "    </tr>\n",
       "    <tr>\n",
       "      <th>std</th>\n",
       "      <td>87.612784</td>\n",
       "      <td>9.038662</td>\n",
       "      <td>0.467299</td>\n",
       "      <td>17.599748</td>\n",
       "      <td>51.776918</td>\n",
       "      <td>0.356198</td>\n",
       "      <td>0.994971</td>\n",
       "      <td>22.875003</td>\n",
       "      <td>0.469794</td>\n",
       "      <td>1.161075</td>\n",
       "      <td>0.616226</td>\n",
       "      <td>0.937438</td>\n",
       "    </tr>\n",
       "    <tr>\n",
       "      <th>min</th>\n",
       "      <td>1.000000</td>\n",
       "      <td>29.000000</td>\n",
       "      <td>0.000000</td>\n",
       "      <td>94.000000</td>\n",
       "      <td>126.000000</td>\n",
       "      <td>0.000000</td>\n",
       "      <td>0.000000</td>\n",
       "      <td>71.000000</td>\n",
       "      <td>0.000000</td>\n",
       "      <td>0.000000</td>\n",
       "      <td>1.000000</td>\n",
       "      <td>0.000000</td>\n",
       "    </tr>\n",
       "    <tr>\n",
       "      <th>25%</th>\n",
       "      <td>76.500000</td>\n",
       "      <td>48.000000</td>\n",
       "      <td>0.000000</td>\n",
       "      <td>120.000000</td>\n",
       "      <td>211.000000</td>\n",
       "      <td>0.000000</td>\n",
       "      <td>0.000000</td>\n",
       "      <td>133.500000</td>\n",
       "      <td>0.000000</td>\n",
       "      <td>0.000000</td>\n",
       "      <td>1.000000</td>\n",
       "      <td>0.000000</td>\n",
       "    </tr>\n",
       "    <tr>\n",
       "      <th>50%</th>\n",
       "      <td>152.000000</td>\n",
       "      <td>56.000000</td>\n",
       "      <td>1.000000</td>\n",
       "      <td>130.000000</td>\n",
       "      <td>241.000000</td>\n",
       "      <td>0.000000</td>\n",
       "      <td>1.000000</td>\n",
       "      <td>153.000000</td>\n",
       "      <td>0.000000</td>\n",
       "      <td>0.800000</td>\n",
       "      <td>2.000000</td>\n",
       "      <td>0.000000</td>\n",
       "    </tr>\n",
       "    <tr>\n",
       "      <th>75%</th>\n",
       "      <td>227.500000</td>\n",
       "      <td>61.000000</td>\n",
       "      <td>1.000000</td>\n",
       "      <td>140.000000</td>\n",
       "      <td>275.000000</td>\n",
       "      <td>0.000000</td>\n",
       "      <td>2.000000</td>\n",
       "      <td>166.000000</td>\n",
       "      <td>1.000000</td>\n",
       "      <td>1.600000</td>\n",
       "      <td>2.000000</td>\n",
       "      <td>1.000000</td>\n",
       "    </tr>\n",
       "    <tr>\n",
       "      <th>max</th>\n",
       "      <td>303.000000</td>\n",
       "      <td>77.000000</td>\n",
       "      <td>1.000000</td>\n",
       "      <td>200.000000</td>\n",
       "      <td>564.000000</td>\n",
       "      <td>1.000000</td>\n",
       "      <td>2.000000</td>\n",
       "      <td>202.000000</td>\n",
       "      <td>1.000000</td>\n",
       "      <td>6.200000</td>\n",
       "      <td>3.000000</td>\n",
       "      <td>3.000000</td>\n",
       "    </tr>\n",
       "  </tbody>\n",
       "</table>\n",
       "</div>"
      ],
      "text/plain": [
       "       Unnamed: 0         Age         Sex      RestBP        Chol         Fbs  \\\n",
       "count  303.000000  303.000000  303.000000  303.000000  303.000000  303.000000   \n",
       "mean   152.000000   54.438944    0.679868  131.689769  246.693069    0.148515   \n",
       "std     87.612784    9.038662    0.467299   17.599748   51.776918    0.356198   \n",
       "min      1.000000   29.000000    0.000000   94.000000  126.000000    0.000000   \n",
       "25%     76.500000   48.000000    0.000000  120.000000  211.000000    0.000000   \n",
       "50%    152.000000   56.000000    1.000000  130.000000  241.000000    0.000000   \n",
       "75%    227.500000   61.000000    1.000000  140.000000  275.000000    0.000000   \n",
       "max    303.000000   77.000000    1.000000  200.000000  564.000000    1.000000   \n",
       "\n",
       "          RestECG       MaxHR       ExAng     Oldpeak       Slope          Ca  \n",
       "count  303.000000  303.000000  303.000000  303.000000  303.000000  299.000000  \n",
       "mean     0.990099  149.607261    0.326733    1.039604    1.600660    0.672241  \n",
       "std      0.994971   22.875003    0.469794    1.161075    0.616226    0.937438  \n",
       "min      0.000000   71.000000    0.000000    0.000000    1.000000    0.000000  \n",
       "25%      0.000000  133.500000    0.000000    0.000000    1.000000    0.000000  \n",
       "50%      1.000000  153.000000    0.000000    0.800000    2.000000    0.000000  \n",
       "75%      2.000000  166.000000    1.000000    1.600000    2.000000    1.000000  \n",
       "max      2.000000  202.000000    1.000000    6.200000    3.000000    3.000000  "
      ]
     },
     "execution_count": 6,
     "metadata": {},
     "output_type": "execute_result"
    }
   ],
   "source": [
    "# description of dataset\n",
    "df.describe()"
   ]
  },
  {
   "cell_type": "code",
   "execution_count": 7,
   "id": "acd920bf",
   "metadata": {},
   "outputs": [
    {
     "data": {
      "text/plain": [
       "Unnamed: 0    0\n",
       "Age           0\n",
       "Sex           0\n",
       "ChestPain     0\n",
       "RestBP        0\n",
       "Chol          0\n",
       "Fbs           0\n",
       "RestECG       0\n",
       "MaxHR         0\n",
       "ExAng         0\n",
       "Oldpeak       0\n",
       "Slope         0\n",
       "Ca            4\n",
       "Thal          2\n",
       "AHD           0\n",
       "dtype: int64"
      ]
     },
     "execution_count": 7,
     "metadata": {},
     "output_type": "execute_result"
    }
   ],
   "source": [
    "#check the null values \n",
    "df.isnull().sum()"
   ]
  },
  {
   "cell_type": "markdown",
   "id": "906c8577",
   "metadata": {},
   "source": [
    "In this dataset we can see that only 2 columns i.e. Ca, Thal are contain null values "
   ]
  },
  {
   "cell_type": "code",
   "execution_count": 8,
   "id": "07cb303a",
   "metadata": {},
   "outputs": [],
   "source": [
    "# \"Ca\" is the numbrical column so replace missing values by mean value\n",
    "df[\"Ca\"].fillna(df[\"Ca\"].mean,inplace=True)"
   ]
  },
  {
   "cell_type": "code",
   "execution_count": 9,
   "id": "b335db39",
   "metadata": {},
   "outputs": [],
   "source": [
    "#\"Thal\" is the categorical column so replace it's missing values by mode\n",
    "df[\"Thal\"] = df[\"Thal\"].fillna(df[\"Thal\"].mode()[0])"
   ]
  },
  {
   "cell_type": "code",
   "execution_count": 10,
   "id": "4323fabd",
   "metadata": {},
   "outputs": [
    {
     "data": {
      "text/plain": [
       "Unnamed: 0    0\n",
       "Age           0\n",
       "Sex           0\n",
       "ChestPain     0\n",
       "RestBP        0\n",
       "Chol          0\n",
       "Fbs           0\n",
       "RestECG       0\n",
       "MaxHR         0\n",
       "ExAng         0\n",
       "Oldpeak       0\n",
       "Slope         0\n",
       "Ca            0\n",
       "Thal          0\n",
       "AHD           0\n",
       "dtype: int64"
      ]
     },
     "execution_count": 10,
     "metadata": {},
     "output_type": "execute_result"
    }
   ],
   "source": [
    "#verify the missing values are filled ?\n",
    "df.isnull().sum()"
   ]
  },
  {
   "cell_type": "markdown",
   "id": "e2e10b63",
   "metadata": {},
   "source": [
    "# Operation 1\n",
    "-----Standard derivation, variance calculation for every numberical column-----"
   ]
  },
  {
   "cell_type": "code",
   "execution_count": 11,
   "id": "e7badea1",
   "metadata": {},
   "outputs": [
    {
     "name": "stdout",
     "output_type": "stream",
     "text": [
      "Unnamed: 0      int64\n",
      "Age             int64\n",
      "Sex             int64\n",
      "ChestPain      object\n",
      "RestBP          int64\n",
      "Chol            int64\n",
      "Fbs             int64\n",
      "RestECG         int64\n",
      "MaxHR           int64\n",
      "ExAng           int64\n",
      "Oldpeak       float64\n",
      "Slope           int64\n",
      "Ca             object\n",
      "Thal           object\n",
      "AHD            object\n",
      "dtype: object\n"
     ]
    }
   ],
   "source": [
    "print(df.dtypes)"
   ]
  },
  {
   "cell_type": "markdown",
   "id": "dd14211c",
   "metadata": {},
   "source": [
    "Here Age, Sex, RestBP, Chol, Fbs, RestECG, MaxHR, ExAng, Oldpeak, Slope are the numbrical columns. "
   ]
  },
  {
   "cell_type": "markdown",
   "id": "05b0f146",
   "metadata": {},
   "source": [
    "------------Variance and Standard derivation of Age column---------------"
   ]
  },
  {
   "cell_type": "code",
   "execution_count": 12,
   "id": "84d7a4cb",
   "metadata": {},
   "outputs": [
    {
     "name": "stdout",
     "output_type": "stream",
     "text": [
      "Variance of Age column:  81.69741874849731\n",
      "Standard derivation of Age column:  9.038662442446743\n"
     ]
    }
   ],
   "source": [
    "#step 1: calculate mean val\n",
    "mean_val=sum(df[\"Age\"]/len(df[\"Age\"]))\n",
    "#step 2: calculate the squared differences\n",
    "squared_diff=[(x-mean_val)**2 for x in df[\"Age\"]]\n",
    "# Step 3: Calculate variance (divide by n-1 for sample std deviation)\n",
    "variance_Age = sum(squared_diff) / (len(df[\"Age\"]) - 1)\n",
    "# step 4: take square root to get std dev\n",
    "std_dev_Age=np.sqrt(variance_Age)\n",
    "print(\"Variance of Age column: \",variance_Age)\n",
    "print(\"Standard derivation of Age column: \",std_dev_Age)"
   ]
  },
  {
   "cell_type": "code",
   "execution_count": 13,
   "id": "55b9685e",
   "metadata": {},
   "outputs": [
    {
     "name": "stdout",
     "output_type": "stream",
     "text": [
      "81.69741874849731\n",
      "9.038662442446743\n"
     ]
    }
   ],
   "source": [
    "#verify using var() and std() in-build function\n",
    "print(df[\"Age\"].var())\n",
    "print(df[\"Age\"].std())"
   ]
  },
  {
   "cell_type": "markdown",
   "id": "142812ff",
   "metadata": {},
   "source": [
    "------------Variance and Standard derivation of Chol column---------------"
   ]
  },
  {
   "cell_type": "code",
   "execution_count": 14,
   "id": "68eb207d",
   "metadata": {},
   "outputs": [
    {
     "name": "stdout",
     "output_type": "stream",
     "text": [
      "Variance of Chol column:  2680.8491902170335\n",
      "Standard derivation of Chol column:  51.77691754263702\n"
     ]
    }
   ],
   "source": [
    "#step 1: calculate mean val\n",
    "mean_val=sum(df[\"Chol\"]/len(df[\"Chol\"]))\n",
    "#step 2: calculate the squared differences\n",
    "squared_diff=[(x-mean_val)**2 for x in df[\"Chol\"]]\n",
    "# Step 3: Calculate variance (divide by n-1 for sample std deviation)\n",
    "variance_Chol = sum(squared_diff) / (len(df[\"Chol\"]) - 1)\n",
    "# step 4: take square root to get std dev\n",
    "std_dev_Chol=np.sqrt(variance_Chol)\n",
    "print(\"Variance of Chol column: \",variance_Chol)\n",
    "print(\"Standard derivation of Chol column: \",std_dev_Chol)"
   ]
  },
  {
   "cell_type": "code",
   "execution_count": 15,
   "id": "a1f33ddb",
   "metadata": {},
   "outputs": [
    {
     "name": "stdout",
     "output_type": "stream",
     "text": [
      "2680.8491902170326\n",
      "51.776917542637015\n"
     ]
    }
   ],
   "source": [
    "#verify using var() and std() in-build function\n",
    "print(df[\"Chol\"].var())\n",
    "print(df[\"Chol\"].std())"
   ]
  },
  {
   "cell_type": "markdown",
   "id": "48ec8b22",
   "metadata": {},
   "source": [
    "------------Variance and Standard derivation of RestBP column---------------"
   ]
  },
  {
   "cell_type": "code",
   "execution_count": 16,
   "id": "517861fd",
   "metadata": {},
   "outputs": [
    {
     "name": "stdout",
     "output_type": "stream",
     "text": [
      "Variance of RestBP column:  309.7511201451271\n",
      "Standard derivation of RestBP column:  17.59974772958769\n"
     ]
    }
   ],
   "source": [
    "#step 1: calculate mean val\n",
    "mean_val=sum(df[\"RestBP\"]/len(df[\"RestBP\"]))\n",
    "#step 2: calculate the squared differences\n",
    "squared_diff=[(x-mean_val)**2 for x in df[\"RestBP\"]]\n",
    "# Step 3: Calculate variance (divide by n-1 for sample std deviation)\n",
    "variance_RestBP = sum(squared_diff) / (len(df[\"RestBP\"]) - 1)\n",
    "# step 4: take square root to get std dev\n",
    "std_dev_RestBP=np.sqrt(variance_RestBP)\n",
    "print(\"Variance of RestBP column: \",variance_RestBP)\n",
    "print(\"Standard derivation of RestBP column: \",std_dev_RestBP)"
   ]
  },
  {
   "cell_type": "code",
   "execution_count": 17,
   "id": "1e99ac21",
   "metadata": {},
   "outputs": [
    {
     "name": "stdout",
     "output_type": "stream",
     "text": [
      "309.751120145127\n",
      "17.599747729587687\n"
     ]
    }
   ],
   "source": [
    "#verify using var() and std() in-build function\n",
    "print(df[\"RestBP\"].var())\n",
    "print(df[\"RestBP\"].std())"
   ]
  },
  {
   "cell_type": "markdown",
   "id": "8a0b9b7d",
   "metadata": {},
   "source": [
    "------------Variance and Standard derivation of MaxHR column---------------"
   ]
  },
  {
   "cell_type": "code",
   "execution_count": 18,
   "id": "0f199f76",
   "metadata": {},
   "outputs": [
    {
     "name": "stdout",
     "output_type": "stream",
     "text": [
      "Variance of RestBP column:  523.2657749218629\n",
      "Standard derivation of RestBP column:  22.875003276980376\n"
     ]
    }
   ],
   "source": [
    "#step 1: calculate mean val\n",
    "mean_val=sum(df[\"MaxHR\"]/len(df[\"MaxHR\"]))\n",
    "#step 2: calculate the squared differences\n",
    "squared_diff=[(x-mean_val)**2 for x in df[\"MaxHR\"]]\n",
    "# Step 3: Calculate variance (divide by n-1 for sample std deviation)\n",
    "variance_MaxHR = sum(squared_diff) / (len(df[\"MaxHR\"]) - 1)\n",
    "# step 4: take square root to get std dev\n",
    "std_dev_MaxHR=np.sqrt(variance_MaxHR)\n",
    "print(\"Variance of RestBP column: \",variance_MaxHR)\n",
    "print(\"Standard derivation of RestBP column: \",std_dev_MaxHR)"
   ]
  },
  {
   "cell_type": "code",
   "execution_count": 19,
   "id": "b00cc559",
   "metadata": {},
   "outputs": [
    {
     "name": "stdout",
     "output_type": "stream",
     "text": [
      "523.2657749218629\n",
      "22.875003276980376\n"
     ]
    }
   ],
   "source": [
    "#verify using var() and std() in-build function\n",
    "print(df[\"MaxHR\"].var())\n",
    "print(df[\"MaxHR\"].std())"
   ]
  },
  {
   "cell_type": "markdown",
   "id": "a8f54d53",
   "metadata": {},
   "source": [
    "------------Variance and Standard derivation of Oldpeak column---------------"
   ]
  },
  {
   "cell_type": "code",
   "execution_count": 20,
   "id": "65aa5862",
   "metadata": {},
   "outputs": [
    {
     "name": "stdout",
     "output_type": "stream",
     "text": [
      "Variance of Oldpeak column:  1.3480952068716785\n",
      "Standard derivation of Oldpeak column:  1.1610750220686339\n"
     ]
    }
   ],
   "source": [
    "#step 1: calculate mean val\n",
    "mean_val=sum(df[\"Oldpeak\"]/len(df[\"Oldpeak\"]))\n",
    "#step 2: calculate the squared differences\n",
    "squared_diff=[(x-mean_val)**2 for x in df[\"Oldpeak\"]]\n",
    "# Step 3: Calculate variance (divide by n-1 for sample std deviation)\n",
    "variance_Oldpeak = sum(squared_diff) / (len(df[\"Oldpeak\"]) - 1)\n",
    "# step 4: take square root to get std dev\n",
    "std_dev_Oldpeak=np.sqrt(variance_Oldpeak)\n",
    "print(\"Variance of Oldpeak column: \",variance_Oldpeak)\n",
    "print(\"Standard derivation of Oldpeak column: \",std_dev_Oldpeak)"
   ]
  },
  {
   "cell_type": "code",
   "execution_count": 21,
   "id": "ad05e1fa",
   "metadata": {},
   "outputs": [
    {
     "name": "stdout",
     "output_type": "stream",
     "text": [
      "1.3480952068716792\n",
      "1.161075022068634\n"
     ]
    }
   ],
   "source": [
    "#verify using var() and std() in-build function\n",
    "print(df[\"Oldpeak\"].var())\n",
    "print(df[\"Oldpeak\"].std())"
   ]
  },
  {
   "cell_type": "code",
   "execution_count": 22,
   "id": "3924fb52",
   "metadata": {},
   "outputs": [
    {
     "data": {
      "image/png": "[encoded data removed]",
      "text/plain": [
       "<Figure size 1000x500 with 1 Axes>"
      ]
     },
     "metadata": {},
     "output_type": "display_data"
    },
    {
     "data": {
      "image/png": "[encoded data removed]",
      "text/plain": [
       "<Figure size 1000x500 with 1 Axes>"
      ]
     },
     "metadata": {},
     "output_type": "display_data"
    }
   ],
   "source": [
    "# Compute variance and standard deviation\n",
    "variance_values = df[[\"Age\", \"RestBP\", \"Chol\", \"MaxHR\", \"Oldpeak\"]].var()\n",
    "std_dev_values = df[[\"Age\", \"RestBP\", \"Chol\", \"MaxHR\", \"Oldpeak\"]].std()\n",
    "\n",
    "# Create a bar plot for variance\n",
    "plt.figure(figsize=(10, 5))\n",
    "sns.barplot(x=variance_values.index, y=variance_values.values, palette=\"Blues\")\n",
    "plt.xlabel(\"Columns\")\n",
    "plt.ylabel(\"Variance\")\n",
    "plt.title(\"Variance of Numerical Columns\")\n",
    "plt.show()\n",
    "\n",
    "# Create a bar plot for standard deviation\n",
    "plt.figure(figsize=(10, 5))\n",
    "sns.barplot(x=std_dev_values.index, y=std_dev_values.values, palette=\"Greens\")\n",
    "plt.xlabel(\"Columns\")\n",
    "plt.ylabel(\"Standard Deviation\")\n",
    "plt.title(\"Standard Deviation of Numerical Columns\")\n",
    "plt.show()"
   ]
  },
  {
   "cell_type": "markdown",
   "id": "ed3821e9",
   "metadata": {},
   "source": [
    "# Operation 2\n",
    "-----Find covarience and perform correlation analysis using correlation coeficient-----"
   ]
  },
  {
   "cell_type": "code",
   "execution_count": 23,
   "id": "be88bc84",
   "metadata": {},
   "outputs": [
    {
     "name": "stdout",
     "output_type": "stream",
     "text": [
      "Covariance between Age and MaxBP:  -81.42306515419753\n",
      "Correlation coeficient between Age and MaxBP:  -0.39380580598682113\n"
     ]
    }
   ],
   "source": [
    "\n",
    "##### Covariance and correlation analysis of Age Vs MaxHR #####\n",
    "\n",
    "\n",
    "#select 2 numbrical column -- Age, MaxHR and drop NaN values\n",
    "x=df[\"Age\"].dropna().values\n",
    "y=df[\"MaxHR\"].dropna().values\n",
    "#step 1: compute mean of x and y\n",
    "mean_x=sum(x)/len(x)\n",
    "mean_y=sum(y)/len(y)\n",
    "\n",
    "#step 2: compute covariance\n",
    "covariance_AgeVsMaxBP=sum((x-mean_x)*(y-mean_y))/(len(x)-1)\n",
    "\n",
    "#step 3: compute standard derivation\n",
    "std_x=(sum((x-mean_x)**2)/(len(x)-1))**0.5\n",
    "std_y=(sum((y-mean_y)**2)/(len(x)-1))**0.5\n",
    "\n",
    "#step 4: compute correlation coeficient\n",
    "correlation_AgeVsMaxBP=covariance_AgeVsMaxBP/(std_x * std_y)\n",
    "\n",
    "print(\"Covariance between Age and MaxBP: \",covariance_AgeVsMaxBP)\n",
    "print(\"Correlation coeficient between Age and MaxBP: \",correlation_AgeVsMaxBP)"
   ]
  },
  {
   "cell_type": "code",
   "execution_count": 27,
   "id": "33271772",
   "metadata": {},
   "outputs": [
    {
     "data": {
      "text/html": [
       "<div>\n",
       "<style scoped>\n",
       "    .dataframe tbody tr th:only-of-type {\n",
       "        vertical-align: middle;\n",
       "    }\n",
       "\n",
       "    .dataframe tbody tr th {\n",
       "        vertical-align: top;\n",
       "    }\n",
       "\n",
       "    .dataframe thead th {\n",
       "        text-align: right;\n",
       "    }\n",
       "</style>\n",
       "<table border=\"1\" class=\"dataframe\">\n",
       "  <thead>\n",
       "    <tr style=\"text-align: right;\">\n",
       "      <th></th>\n",
       "      <th>Unnamed: 0</th>\n",
       "      <th>Age</th>\n",
       "      <th>Sex</th>\n",
       "      <th>RestBP</th>\n",
       "      <th>Chol</th>\n",
       "      <th>Fbs</th>\n",
       "      <th>RestECG</th>\n",
       "      <th>MaxHR</th>\n",
       "      <th>ExAng</th>\n",
       "      <th>Oldpeak</th>\n",
       "      <th>Slope</th>\n",
       "    </tr>\n",
       "  </thead>\n",
       "  <tbody>\n",
       "    <tr>\n",
       "      <th>Unnamed: 0</th>\n",
       "      <td>1.000000</td>\n",
       "      <td>-0.002367</td>\n",
       "      <td>-0.070849</td>\n",
       "      <td>-0.022028</td>\n",
       "      <td>-0.095518</td>\n",
       "      <td>-0.039471</td>\n",
       "      <td>-0.150232</td>\n",
       "      <td>-0.105488</td>\n",
       "      <td>-0.000402</td>\n",
       "      <td>-0.120384</td>\n",
       "      <td>-0.028458</td>\n",
       "    </tr>\n",
       "    <tr>\n",
       "      <th>Age</th>\n",
       "      <td>-0.002367</td>\n",
       "      <td>1.000000</td>\n",
       "      <td>-0.097542</td>\n",
       "      <td>0.284946</td>\n",
       "      <td>0.208950</td>\n",
       "      <td>0.118530</td>\n",
       "      <td>0.148868</td>\n",
       "      <td>-0.393806</td>\n",
       "      <td>0.091661</td>\n",
       "      <td>0.203805</td>\n",
       "      <td>0.161770</td>\n",
       "    </tr>\n",
       "    <tr>\n",
       "      <th>Sex</th>\n",
       "      <td>-0.070849</td>\n",
       "      <td>-0.097542</td>\n",
       "      <td>1.000000</td>\n",
       "      <td>-0.064456</td>\n",
       "      <td>-0.199915</td>\n",
       "      <td>0.047862</td>\n",
       "      <td>0.021647</td>\n",
       "      <td>-0.048663</td>\n",
       "      <td>0.146201</td>\n",
       "      <td>0.102173</td>\n",
       "      <td>0.037533</td>\n",
       "    </tr>\n",
       "    <tr>\n",
       "      <th>RestBP</th>\n",
       "      <td>-0.022028</td>\n",
       "      <td>0.284946</td>\n",
       "      <td>-0.064456</td>\n",
       "      <td>1.000000</td>\n",
       "      <td>0.130120</td>\n",
       "      <td>0.175340</td>\n",
       "      <td>0.146560</td>\n",
       "      <td>-0.045351</td>\n",
       "      <td>0.064762</td>\n",
       "      <td>0.189171</td>\n",
       "      <td>0.117382</td>\n",
       "    </tr>\n",
       "    <tr>\n",
       "      <th>Chol</th>\n",
       "      <td>-0.095518</td>\n",
       "      <td>0.208950</td>\n",
       "      <td>-0.199915</td>\n",
       "      <td>0.130120</td>\n",
       "      <td>1.000000</td>\n",
       "      <td>0.009841</td>\n",
       "      <td>0.171043</td>\n",
       "      <td>-0.003432</td>\n",
       "      <td>0.061310</td>\n",
       "      <td>0.046564</td>\n",
       "      <td>-0.004062</td>\n",
       "    </tr>\n",
       "    <tr>\n",
       "      <th>Fbs</th>\n",
       "      <td>-0.039471</td>\n",
       "      <td>0.118530</td>\n",
       "      <td>0.047862</td>\n",
       "      <td>0.175340</td>\n",
       "      <td>0.009841</td>\n",
       "      <td>1.000000</td>\n",
       "      <td>0.069564</td>\n",
       "      <td>-0.007854</td>\n",
       "      <td>0.025665</td>\n",
       "      <td>0.005747</td>\n",
       "      <td>0.059894</td>\n",
       "    </tr>\n",
       "    <tr>\n",
       "      <th>RestECG</th>\n",
       "      <td>-0.150232</td>\n",
       "      <td>0.148868</td>\n",
       "      <td>0.021647</td>\n",
       "      <td>0.146560</td>\n",
       "      <td>0.171043</td>\n",
       "      <td>0.069564</td>\n",
       "      <td>1.000000</td>\n",
       "      <td>-0.083389</td>\n",
       "      <td>0.084867</td>\n",
       "      <td>0.114133</td>\n",
       "      <td>0.133946</td>\n",
       "    </tr>\n",
       "    <tr>\n",
       "      <th>MaxHR</th>\n",
       "      <td>-0.105488</td>\n",
       "      <td>-0.393806</td>\n",
       "      <td>-0.048663</td>\n",
       "      <td>-0.045351</td>\n",
       "      <td>-0.003432</td>\n",
       "      <td>-0.007854</td>\n",
       "      <td>-0.083389</td>\n",
       "      <td>1.000000</td>\n",
       "      <td>-0.378103</td>\n",
       "      <td>-0.343085</td>\n",
       "      <td>-0.385601</td>\n",
       "    </tr>\n",
       "    <tr>\n",
       "      <th>ExAng</th>\n",
       "      <td>-0.000402</td>\n",
       "      <td>0.091661</td>\n",
       "      <td>0.146201</td>\n",
       "      <td>0.064762</td>\n",
       "      <td>0.061310</td>\n",
       "      <td>0.025665</td>\n",
       "      <td>0.084867</td>\n",
       "      <td>-0.378103</td>\n",
       "      <td>1.000000</td>\n",
       "      <td>0.288223</td>\n",
       "      <td>0.257748</td>\n",
       "    </tr>\n",
       "    <tr>\n",
       "      <th>Oldpeak</th>\n",
       "      <td>-0.120384</td>\n",
       "      <td>0.203805</td>\n",
       "      <td>0.102173</td>\n",
       "      <td>0.189171</td>\n",
       "      <td>0.046564</td>\n",
       "      <td>0.005747</td>\n",
       "      <td>0.114133</td>\n",
       "      <td>-0.343085</td>\n",
       "      <td>0.288223</td>\n",
       "      <td>1.000000</td>\n",
       "      <td>0.577537</td>\n",
       "    </tr>\n",
       "    <tr>\n",
       "      <th>Slope</th>\n",
       "      <td>-0.028458</td>\n",
       "      <td>0.161770</td>\n",
       "      <td>0.037533</td>\n",
       "      <td>0.117382</td>\n",
       "      <td>-0.004062</td>\n",
       "      <td>0.059894</td>\n",
       "      <td>0.133946</td>\n",
       "      <td>-0.385601</td>\n",
       "      <td>0.257748</td>\n",
       "      <td>0.577537</td>\n",
       "      <td>1.000000</td>\n",
       "    </tr>\n",
       "  </tbody>\n",
       "</table>\n",
       "</div>"
      ],
      "text/plain": [
       "            Unnamed: 0       Age       Sex    RestBP      Chol       Fbs  \\\n",
       "Unnamed: 0    1.000000 -0.002367 -0.070849 -0.022028 -0.095518 -0.039471   \n",
       "Age          -0.002367  1.000000 -0.097542  0.284946  0.208950  0.118530   \n",
       "Sex          -0.070849 -0.097542  1.000000 -0.064456 -0.199915  0.047862   \n",
       "RestBP       -0.022028  0.284946 -0.064456  1.000000  0.130120  0.175340   \n",
       "Chol         -0.095518  0.208950 -0.199915  0.130120  1.000000  0.009841   \n",
       "Fbs          -0.039471  0.118530  0.047862  0.175340  0.009841  1.000000   \n",
       "RestECG      -0.150232  0.148868  0.021647  0.146560  0.171043  0.069564   \n",
       "MaxHR        -0.105488 -0.393806 -0.048663 -0.045351 -0.003432 -0.007854   \n",
       "ExAng        -0.000402  0.091661  0.146201  0.064762  0.061310  0.025665   \n",
       "Oldpeak      -0.120384  0.203805  0.102173  0.189171  0.046564  0.005747   \n",
       "Slope        -0.028458  0.161770  0.037533  0.117382 -0.004062  0.059894   \n",
       "\n",
       "             RestECG     MaxHR     ExAng   Oldpeak     Slope  \n",
       "Unnamed: 0 -0.150232 -0.105488 -0.000402 -0.120384 -0.028458  \n",
       "Age         0.148868 -0.393806  0.091661  0.203805  0.161770  \n",
       "Sex         0.021647 -0.048663  0.146201  0.102173  0.037533  \n",
       "RestBP      0.146560 -0.045351  0.064762  0.189171  0.117382  \n",
       "Chol        0.171043 -0.003432  0.061310  0.046564 -0.004062  \n",
       "Fbs         0.069564 -0.007854  0.025665  0.005747  0.059894  \n",
       "RestECG     1.000000 -0.083389  0.084867  0.114133  0.133946  \n",
       "MaxHR      -0.083389  1.000000 -0.378103 -0.343085 -0.385601  \n",
       "ExAng       0.084867 -0.378103  1.000000  0.288223  0.257748  \n",
       "Oldpeak     0.114133 -0.343085  0.288223  1.000000  0.577537  \n",
       "Slope       0.133946 -0.385601  0.257748  0.577537  1.000000  "
      ]
     },
     "execution_count": 27,
     "metadata": {},
     "output_type": "execute_result"
    }
   ],
   "source": [
    "#verify using cov() and corr() in-build function\n",
    "covariance_matrix=df.cov()\n",
    "correlation_matrix=df.corr()\n",
    "correlation_matrix"
   ]
  },
  {
   "cell_type": "code",
   "execution_count": 28,
   "id": "76c13c89",
   "metadata": {},
   "outputs": [
    {
     "data": {
      "text/html": [
       "<div>\n",
       "<style scoped>\n",
       "    .dataframe tbody tr th:only-of-type {\n",
       "        vertical-align: middle;\n",
       "    }\n",
       "\n",
       "    .dataframe tbody tr th {\n",
       "        vertical-align: top;\n",
       "    }\n",
       "\n",
       "    .dataframe thead th {\n",
       "        text-align: right;\n",
       "    }\n",
       "</style>\n",
       "<table border=\"1\" class=\"dataframe\">\n",
       "  <thead>\n",
       "    <tr style=\"text-align: right;\">\n",
       "      <th></th>\n",
       "      <th>Unnamed: 0</th>\n",
       "      <th>Age</th>\n",
       "      <th>Sex</th>\n",
       "      <th>RestBP</th>\n",
       "      <th>Chol</th>\n",
       "      <th>Fbs</th>\n",
       "      <th>RestECG</th>\n",
       "      <th>MaxHR</th>\n",
       "      <th>ExAng</th>\n",
       "      <th>Oldpeak</th>\n",
       "      <th>Slope</th>\n",
       "    </tr>\n",
       "  </thead>\n",
       "  <tbody>\n",
       "    <tr>\n",
       "      <th>Unnamed: 0</th>\n",
       "      <td>7676.000000</td>\n",
       "      <td>-1.874172</td>\n",
       "      <td>-2.900662</td>\n",
       "      <td>-33.966887</td>\n",
       "      <td>-433.301325</td>\n",
       "      <td>-1.231788</td>\n",
       "      <td>-13.096026</td>\n",
       "      <td>-211.413907</td>\n",
       "      <td>-0.016556</td>\n",
       "      <td>-12.246026</td>\n",
       "      <td>-1.536424</td>\n",
       "    </tr>\n",
       "    <tr>\n",
       "      <th>Age</th>\n",
       "      <td>-1.874172</td>\n",
       "      <td>81.697419</td>\n",
       "      <td>-0.411995</td>\n",
       "      <td>45.328678</td>\n",
       "      <td>97.787489</td>\n",
       "      <td>0.381614</td>\n",
       "      <td>1.338797</td>\n",
       "      <td>-81.423065</td>\n",
       "      <td>0.389220</td>\n",
       "      <td>2.138850</td>\n",
       "      <td>0.901034</td>\n",
       "    </tr>\n",
       "    <tr>\n",
       "      <th>Sex</th>\n",
       "      <td>-2.900662</td>\n",
       "      <td>-0.411995</td>\n",
       "      <td>0.218368</td>\n",
       "      <td>-0.530107</td>\n",
       "      <td>-4.836994</td>\n",
       "      <td>0.007967</td>\n",
       "      <td>0.010065</td>\n",
       "      <td>-0.520184</td>\n",
       "      <td>0.032096</td>\n",
       "      <td>0.055436</td>\n",
       "      <td>0.010808</td>\n",
       "    </tr>\n",
       "    <tr>\n",
       "      <th>RestBP</th>\n",
       "      <td>-33.966887</td>\n",
       "      <td>45.328678</td>\n",
       "      <td>-0.530107</td>\n",
       "      <td>309.751120</td>\n",
       "      <td>118.573339</td>\n",
       "      <td>1.099207</td>\n",
       "      <td>2.566455</td>\n",
       "      <td>-18.258005</td>\n",
       "      <td>0.535473</td>\n",
       "      <td>3.865638</td>\n",
       "      <td>1.273053</td>\n",
       "    </tr>\n",
       "    <tr>\n",
       "      <th>Chol</th>\n",
       "      <td>-433.301325</td>\n",
       "      <td>97.787489</td>\n",
       "      <td>-4.836994</td>\n",
       "      <td>118.573339</td>\n",
       "      <td>2680.849190</td>\n",
       "      <td>0.181496</td>\n",
       "      <td>8.811521</td>\n",
       "      <td>-4.064651</td>\n",
       "      <td>1.491345</td>\n",
       "      <td>2.799282</td>\n",
       "      <td>-0.129598</td>\n",
       "    </tr>\n",
       "    <tr>\n",
       "      <th>Fbs</th>\n",
       "      <td>-1.231788</td>\n",
       "      <td>0.381614</td>\n",
       "      <td>0.007967</td>\n",
       "      <td>1.099207</td>\n",
       "      <td>0.181496</td>\n",
       "      <td>0.126877</td>\n",
       "      <td>0.024654</td>\n",
       "      <td>-0.063996</td>\n",
       "      <td>0.004295</td>\n",
       "      <td>0.002377</td>\n",
       "      <td>0.013147</td>\n",
       "    </tr>\n",
       "    <tr>\n",
       "      <th>RestECG</th>\n",
       "      <td>-13.096026</td>\n",
       "      <td>1.338797</td>\n",
       "      <td>0.010065</td>\n",
       "      <td>2.566455</td>\n",
       "      <td>8.811521</td>\n",
       "      <td>0.024654</td>\n",
       "      <td>0.989968</td>\n",
       "      <td>-1.897941</td>\n",
       "      <td>0.039670</td>\n",
       "      <td>0.131850</td>\n",
       "      <td>0.082126</td>\n",
       "    </tr>\n",
       "    <tr>\n",
       "      <th>MaxHR</th>\n",
       "      <td>-211.413907</td>\n",
       "      <td>-81.423065</td>\n",
       "      <td>-0.520184</td>\n",
       "      <td>-18.258005</td>\n",
       "      <td>-4.064651</td>\n",
       "      <td>-0.063996</td>\n",
       "      <td>-1.897941</td>\n",
       "      <td>523.265775</td>\n",
       "      <td>-4.063307</td>\n",
       "      <td>-9.112209</td>\n",
       "      <td>-5.435501</td>\n",
       "    </tr>\n",
       "    <tr>\n",
       "      <th>ExAng</th>\n",
       "      <td>-0.016556</td>\n",
       "      <td>0.389220</td>\n",
       "      <td>0.032096</td>\n",
       "      <td>0.535473</td>\n",
       "      <td>1.491345</td>\n",
       "      <td>0.004295</td>\n",
       "      <td>0.039670</td>\n",
       "      <td>-4.063307</td>\n",
       "      <td>0.220707</td>\n",
       "      <td>0.157216</td>\n",
       "      <td>0.074618</td>\n",
       "    </tr>\n",
       "    <tr>\n",
       "      <th>Oldpeak</th>\n",
       "      <td>-12.246026</td>\n",
       "      <td>2.138850</td>\n",
       "      <td>0.055436</td>\n",
       "      <td>3.865638</td>\n",
       "      <td>2.799282</td>\n",
       "      <td>0.002377</td>\n",
       "      <td>0.131850</td>\n",
       "      <td>-9.112209</td>\n",
       "      <td>0.157216</td>\n",
       "      <td>1.348095</td>\n",
       "      <td>0.413219</td>\n",
       "    </tr>\n",
       "    <tr>\n",
       "      <th>Slope</th>\n",
       "      <td>-1.536424</td>\n",
       "      <td>0.901034</td>\n",
       "      <td>0.010808</td>\n",
       "      <td>1.273053</td>\n",
       "      <td>-0.129598</td>\n",
       "      <td>0.013147</td>\n",
       "      <td>0.082126</td>\n",
       "      <td>-5.435501</td>\n",
       "      <td>0.074618</td>\n",
       "      <td>0.413219</td>\n",
       "      <td>0.379735</td>\n",
       "    </tr>\n",
       "  </tbody>\n",
       "</table>\n",
       "</div>"
      ],
      "text/plain": [
       "             Unnamed: 0        Age       Sex      RestBP         Chol  \\\n",
       "Unnamed: 0  7676.000000  -1.874172 -2.900662  -33.966887  -433.301325   \n",
       "Age           -1.874172  81.697419 -0.411995   45.328678    97.787489   \n",
       "Sex           -2.900662  -0.411995  0.218368   -0.530107    -4.836994   \n",
       "RestBP       -33.966887  45.328678 -0.530107  309.751120   118.573339   \n",
       "Chol        -433.301325  97.787489 -4.836994  118.573339  2680.849190   \n",
       "Fbs           -1.231788   0.381614  0.007967    1.099207     0.181496   \n",
       "RestECG      -13.096026   1.338797  0.010065    2.566455     8.811521   \n",
       "MaxHR       -211.413907 -81.423065 -0.520184  -18.258005    -4.064651   \n",
       "ExAng         -0.016556   0.389220  0.032096    0.535473     1.491345   \n",
       "Oldpeak      -12.246026   2.138850  0.055436    3.865638     2.799282   \n",
       "Slope         -1.536424   0.901034  0.010808    1.273053    -0.129598   \n",
       "\n",
       "                 Fbs    RestECG       MaxHR     ExAng    Oldpeak     Slope  \n",
       "Unnamed: 0 -1.231788 -13.096026 -211.413907 -0.016556 -12.246026 -1.536424  \n",
       "Age         0.381614   1.338797  -81.423065  0.389220   2.138850  0.901034  \n",
       "Sex         0.007967   0.010065   -0.520184  0.032096   0.055436  0.010808  \n",
       "RestBP      1.099207   2.566455  -18.258005  0.535473   3.865638  1.273053  \n",
       "Chol        0.181496   8.811521   -4.064651  1.491345   2.799282 -0.129598  \n",
       "Fbs         0.126877   0.024654   -0.063996  0.004295   0.002377  0.013147  \n",
       "RestECG     0.024654   0.989968   -1.897941  0.039670   0.131850  0.082126  \n",
       "MaxHR      -0.063996  -1.897941  523.265775 -4.063307  -9.112209 -5.435501  \n",
       "ExAng       0.004295   0.039670   -4.063307  0.220707   0.157216  0.074618  \n",
       "Oldpeak     0.002377   0.131850   -9.112209  0.157216   1.348095  0.413219  \n",
       "Slope       0.013147   0.082126   -5.435501  0.074618   0.413219  0.379735  "
      ]
     },
     "execution_count": 28,
     "metadata": {},
     "output_type": "execute_result"
    }
   ],
   "source": [
    "covariance_matrix"
   ]
  },
  {
   "cell_type": "code",
   "execution_count": 84,
   "id": "4265692a",
   "metadata": {},
   "outputs": [
    {
     "data": {
      "image/png": "[encoded data removed]",
      "text/plain": [
       "<Figure size 1000x600 with 2 Axes>"
      ]
     },
     "metadata": {},
     "output_type": "display_data"
    }
   ],
   "source": [
    "# Heatmap to show the correlation between Age and MaxBP\n",
    "\n",
    "plt.figure(figsize=(10, 6))\n",
    "sns.heatmap(correlation_matrix, annot=True, linewidths=0.5)\n",
    "\n",
    "plt.title(\"Correlation Heatmap of Heart Dataset\", fontsize=14)\n",
    "plt.show()"
   ]
  },
  {
   "cell_type": "markdown",
   "id": "0d33e186",
   "metadata": {},
   "source": [
    "Observation: \n",
    "\n",
    "Covariance is -81.42 the negative value indicates an inverse relationship between Age and MaxBP (As age increases, MaxBP tends to decrease) \n",
    "\n",
    "Correlation coefficient is -0.39 The correaltion coefficient ranges from -1 to 1 : -1 -->perfect negative correlation, 0-->No correlation, +1-->positive correlation.\n",
    "\n",
    "Here, -0.39 shows an negative correlation, meaning that as Age inceases, MaxBP tends to decrease,\n",
    "\n",
    "So, we conclude that age affects heart rate(i.e., older indiviuals tend to have MaxHR)."
   ]
  },
  {
   "cell_type": "markdown",
   "id": "734f13bb",
   "metadata": {},
   "source": [
    "# Operation 3\n",
    "-----Identify independent features and unwanted features-----"
   ]
  },
  {
   "cell_type": "code",
   "execution_count": 86,
   "id": "6f06be0f",
   "metadata": {},
   "outputs": [
    {
     "name": "stdout",
     "output_type": "stream",
     "text": [
      "Strongly correlated featues are:  set()\n"
     ]
    }
   ],
   "source": [
    "# 1st find highly correlated features \n",
    "threshold=0.8\n",
    "high_corr_features=set()\n",
    "for i in range(len(correlation_matrix.columns)):#iterates over the upper triangle of the correlation matrix \n",
    "    for j in range(i):   #avoid duplicate pairs\n",
    "        if abs(correlation_matrix.iloc[i,j])>threshold:\n",
    "            col_name=correlation_matrix.columns[i]\n",
    "            high_corr_features.add(col_name)\n",
    "print(\"Strongly correlated featues are: \",high_corr_features)\n",
    "\n",
    "# if there is strongly correlated features(i.e. unwanted features) then drop it\n",
    "reduced_features=df.drop(columns=high_corr_features)"
   ]
  },
  {
   "cell_type": "code",
   "execution_count": 89,
   "id": "4c3dcb28",
   "metadata": {},
   "outputs": [
    {
     "name": "stdout",
     "output_type": "stream",
     "text": [
      "(303, 15)\n"
     ]
    }
   ],
   "source": [
    "# print shape to compare before and after reducing the features\n",
    "print(reduced_features.shape)"
   ]
  },
  {
   "cell_type": "markdown",
   "id": "c4093af7",
   "metadata": {},
   "source": [
    "# Operation 4\n",
    "-----Data discretization using equi frequency binning method on age attribute-----"
   ]
  },
  {
   "cell_type": "code",
   "execution_count": 97,
   "id": "82d1fda9",
   "metadata": {},
   "outputs": [
    {
     "name": "stdout",
     "output_type": "stream",
     "text": [
      "0           Elder\n",
      "1           Elder\n",
      "2           Elder\n",
      "3           Young\n",
      "4           Young\n",
      "          ...    \n",
      "298         Young\n",
      "299         Elder\n",
      "300    Middle-Age\n",
      "301    Middle-Age\n",
      "302         Young\n",
      "Name: Age_binned, Length: 303, dtype: category\n",
      "Categories (3, object): ['Young' < 'Middle-Age' < 'Elder']\n"
     ]
    }
   ],
   "source": [
    "k=3  #no. of bins\n",
    "\n",
    "# perform equi-frequency binning into 3 bins\n",
    "df[\"Age_binned\"]=pd.qcut(df[\"Age\"],q=3,labels=[\"Young\",\"Middle-Age\",\"Elder\"])\n",
    "#print the bins \n",
    "print(df[\"Age_binned\"])"
   ]
  },
  {
   "cell_type": "code",
   "execution_count": 110,
   "id": "77194a53",
   "metadata": {},
   "outputs": [
    {
     "data": {
      "text/plain": [
       "<AxesSubplot:xlabel='Age', ylabel='Count'>"
      ]
     },
     "execution_count": 110,
     "metadata": {},
     "output_type": "execute_result"
    },
    {
     "data": {
      "image/png": "[encoded data removed]",
      "text/plain": [
       "<Figure size 640x480 with 1 Axes>"
      ]
     },
     "metadata": {},
     "output_type": "display_data"
    }
   ],
   "source": [
    "# visualize bins using histogram\n",
    "sns.histplot(df['Age'], bins=k, kde=True,color=\"blue\")"
   ]
  },
  {
   "cell_type": "markdown",
   "id": "a20ec272",
   "metadata": {},
   "source": [
    "Observation:\n",
    "\n",
    "Majority of individuals in the dataset are aged 50-60. So the higher risk of heart issues in this age group."
   ]
  },
  {
   "cell_type": "markdown",
   "id": "99515b97",
   "metadata": {},
   "source": [
    "# Operation 5\n",
    "-----Data Normalization \n",
    "\n",
    "using: min-max normalization, Z-score normalization, decimal scaling normalization----- "
   ]
  },
  {
   "cell_type": "code",
   "execution_count": 111,
   "id": "648e1963",
   "metadata": {},
   "outputs": [
    {
     "name": "stdout",
     "output_type": "stream",
     "text": [
      "0      0.481132\n",
      "1      0.622642\n",
      "2      0.245283\n",
      "3      0.339623\n",
      "4      0.339623\n",
      "         ...   \n",
      "298    0.150943\n",
      "299    0.471698\n",
      "300    0.339623\n",
      "301    0.339623\n",
      "302    0.415094\n",
      "Name: RestBP_MinMax, Length: 303, dtype: float64\n"
     ]
    }
   ],
   "source": [
    "# Min-Max normalization ---> scales values between 0 and 1. Best for bounded values\n",
    "\n",
    "# Min-Max for Rest blood presserl (RestBP)\n",
    "df[\"RestBP_MinMax\"]=(df[\"RestBP\"]-df[\"RestBP\"].min())/(df[\"RestBP\"].max()-df[\"RestBP\"].min())\n",
    "print(df[\"RestBP_MinMax\"])"
   ]
  },
  {
   "cell_type": "code",
   "execution_count": 112,
   "id": "67ff5b4f",
   "metadata": {},
   "outputs": [
    {
     "name": "stdout",
     "output_type": "stream",
     "text": [
      "0      0.244292\n",
      "1      0.365297\n",
      "2      0.235160\n",
      "3      0.283105\n",
      "4      0.178082\n",
      "         ...   \n",
      "298    0.315068\n",
      "299    0.152968\n",
      "300    0.011416\n",
      "301    0.251142\n",
      "302    0.111872\n",
      "Name: Chol_MinMax, Length: 303, dtype: float64\n"
     ]
    }
   ],
   "source": [
    "# Min-Max for Cholestrol(Chol)\n",
    "df[\"Chol_MinMax\"]=(df[\"Chol\"]-df[\"Chol\"].min())/(df[\"Chol\"].max()-df[\"Chol\"].min())\n",
    "print(df[\"Chol_MinMax\"])"
   ]
  },
  {
   "cell_type": "code",
   "execution_count": 114,
   "id": "9a13d1e6",
   "metadata": {},
   "outputs": [
    {
     "name": "stdout",
     "output_type": "stream",
     "text": [
      "0      150\n",
      "1      108\n",
      "2      129\n",
      "3      187\n",
      "4      172\n",
      "      ... \n",
      "298    132\n",
      "299    141\n",
      "300    115\n",
      "301    174\n",
      "302    173\n",
      "Name: MaxHR, Length: 303, dtype: int64\n"
     ]
    }
   ],
   "source": [
    "# Min-Max for MaxHR\n",
    "df[\"MaxHR_MinMax\"]=(df[\"MaxHR\"]-df[\"MaxHR\"].min())/(df[\"MaxHR\"].max()-df[\"MaxHR\"].min())\n",
    "print(df[\"MaxHR\"])"
   ]
  },
  {
   "cell_type": "markdown",
   "id": "c5e4d1b4",
   "metadata": {},
   "source": [
    "Observation of Min-Max scaling:\n",
    "    \n",
    "-RestBP and Chol are well scaled between 0 and 1.\n",
    "\n",
    "-MaxHR is not normalized yet, so its values remain in the original range (i.e. 150, 108, etc.)."
   ]
  },
  {
   "cell_type": "code",
   "execution_count": 116,
   "id": "af31c1b7",
   "metadata": {},
   "outputs": [
    {
     "name": "stdout",
     "output_type": "stream",
     "text": [
      "0      0.756274\n",
      "1      1.608559\n",
      "2     -0.664201\n",
      "3     -0.096011\n",
      "4     -0.096011\n",
      "         ...   \n",
      "298   -1.232391\n",
      "299    0.699455\n",
      "300   -0.096011\n",
      "301   -0.096011\n",
      "302    0.358541\n",
      "Name: RestBP_ZScore, Length: 303, dtype: float64\n"
     ]
    }
   ],
   "source": [
    "# Z-score normalization ---> scales values with mean=0 and standard deviation=1\n",
    "\n",
    "# Z-score for Rest blood presser (RestBP)\n",
    "df[\"RestBP_ZScore\"] = (df[\"RestBP\"] - df[\"RestBP\"].mean()) / df[\"RestBP\"].std()\n",
    "print(df[\"RestBP_ZScore\"])"
   ]
  },
  {
   "cell_type": "code",
   "execution_count": 117,
   "id": "7ea1999f",
   "metadata": {},
   "outputs": [
    {
     "name": "stdout",
     "output_type": "stream",
     "text": [
      "0     -0.264463\n",
      "1      0.759159\n",
      "2     -0.341717\n",
      "3      0.063869\n",
      "4     -0.824558\n",
      "         ...   \n",
      "298    0.334260\n",
      "299   -1.037008\n",
      "300   -2.234453\n",
      "301   -0.206522\n",
      "302   -1.384653\n",
      "Name: Chol_ZScore, Length: 303, dtype: float64\n"
     ]
    }
   ],
   "source": [
    "# Z-score for Cholestrol\n",
    "df[\"Chol_ZScore\"] = (df[\"Chol\"] - df[\"Chol\"].mean()) / df[\"Chol\"].std()\n",
    "print(df[\"Chol_ZScore\"])"
   ]
  },
  {
   "cell_type": "code",
   "execution_count": 119,
   "id": "73bc06ea",
   "metadata": {},
   "outputs": [
    {
     "name": "stdout",
     "output_type": "stream",
     "text": [
      "0      0.017169\n",
      "1     -1.818896\n",
      "2     -0.900864\n",
      "3      1.634655\n",
      "4      0.978917\n",
      "         ...   \n",
      "298   -0.769716\n",
      "299   -0.376274\n",
      "300   -1.512885\n",
      "301    1.066349\n",
      "302    1.022633\n",
      "Name: MaxHR_ZScore, Length: 303, dtype: float64\n"
     ]
    }
   ],
   "source": [
    "#Z-score for MaxHR\n",
    "df[\"MaxHR_ZScore\"] = (df[\"MaxHR\"] - df[\"MaxHR\"].mean()) / df[\"MaxHR\"].std()\n",
    "print(df[\"MaxHR_ZScore\"])"
   ]
  },
  {
   "cell_type": "markdown",
   "id": "939aceed",
   "metadata": {},
   "source": [
    "Observation:\n",
    "\n",
    "RestBP, Chol, and MaxHR are standardized using Z-score normalization. Values are now centered around 0, with positive values indicating above-average readings and negative values indicating below-average readings. RestBP and Chol show wider variation, while MaxHR has a balanced distribution."
   ]
  },
  {
   "cell_type": "code",
   "execution_count": 120,
   "id": "22e24ec6",
   "metadata": {},
   "outputs": [
    {
     "name": "stdout",
     "output_type": "stream",
     "text": [
      "0      0.145\n",
      "1      0.160\n",
      "2      0.120\n",
      "3      0.130\n",
      "4      0.130\n",
      "       ...  \n",
      "298    0.110\n",
      "299    0.144\n",
      "300    0.130\n",
      "301    0.130\n",
      "302    0.138\n",
      "Name: RestBP_decimal, Length: 303, dtype: float64\n"
     ]
    }
   ],
   "source": [
    "# Decimal scaling normalization ---> scales values by moving the decimal point based on the maximum absolute value\n",
    "# Formula--> x'=x/10^j  where j is the no. of digit in Xmax\n",
    "\n",
    "# Decimal scaling for Rest blood presser (RestBP)\n",
    "j_RestBP=len(str(abs(df[\"RestBP\"].max())))\n",
    "df[\"RestBP_decimal\"]=df[\"RestBP\"]/(10**j_RestBP)\n",
    "print(df[\"RestBP_decimal\"])"
   ]
  },
  {
   "cell_type": "code",
   "execution_count": 121,
   "id": "aad999b3",
   "metadata": {},
   "outputs": [
    {
     "name": "stdout",
     "output_type": "stream",
     "text": [
      "0      0.233\n",
      "1      0.286\n",
      "2      0.229\n",
      "3      0.250\n",
      "4      0.204\n",
      "       ...  \n",
      "298    0.264\n",
      "299    0.193\n",
      "300    0.131\n",
      "301    0.236\n",
      "302    0.175\n",
      "Name: Chol_decimal, Length: 303, dtype: float64\n"
     ]
    }
   ],
   "source": [
    "# Decimal scaling for Caholestrol (Chol)\n",
    "j_Chol=len(str(abs(df[\"Chol\"].max())))\n",
    "df[\"Chol_decimal\"]=df[\"Chol\"]/(10**j_Chol)\n",
    "print(df[\"Chol_decimal\"])"
   ]
  },
  {
   "cell_type": "code",
   "execution_count": 122,
   "id": "adea668d",
   "metadata": {},
   "outputs": [
    {
     "name": "stdout",
     "output_type": "stream",
     "text": [
      "0      0.150\n",
      "1      0.108\n",
      "2      0.129\n",
      "3      0.187\n",
      "4      0.172\n",
      "       ...  \n",
      "298    0.132\n",
      "299    0.141\n",
      "300    0.115\n",
      "301    0.174\n",
      "302    0.173\n",
      "Name: MaxHR_decimal, Length: 303, dtype: float64\n"
     ]
    }
   ],
   "source": [
    "# Decimal scaling for MaxHR\n",
    "j_MaxHR=len(str(abs(df[\"MaxHR\"].max())))\n",
    "df[\"MaxHR_decimal\"]=df[\"MaxHR\"]/(10**j_MaxHR)\n",
    "print(df[\"MaxHR_decimal\"])"
   ]
  },
  {
   "cell_type": "markdown",
   "id": "836f01bf",
   "metadata": {},
   "source": [
    "Observation:\n",
    "\n",
    "RestBP, Chol, and MaxHR are scaled using decimal scaling normalization, where values are adjusted by dividing by a power of 10. This ensures all values are within a small range, making them easier to compare while preserving relative differences."
   ]
  },
  {
   "cell_type": "code",
   "execution_count": 123,
   "id": "13cc9387",
   "metadata": {},
   "outputs": [
    {
     "data": {
      "image/png": "[encoded data removed]",
      "text/plain": [
       "<Figure size 1200x600 with 1 Axes>"
      ]
     },
     "metadata": {},
     "output_type": "display_data"
    }
   ],
   "source": [
    "# Create a DataFrame with all normalization methods\n",
    "normalized_data = df[[\"RestBP_MinMax\", \"RestBP_ZScore\", \"RestBP_decimal\",\n",
    "                      \"Chol_MinMax\", \"Chol_ZScore\", \"Chol_decimal\",\n",
    "                      \"MaxHR_MinMax\", \"MaxHR_ZScore\", \"MaxHR_decimal\"]]\n",
    "\n",
    "# Plot box plots\n",
    "plt.figure(figsize=(12, 6))\n",
    "sns.boxplot(data=normalized_data)\n",
    "plt.xticks(rotation=45)\n",
    "plt.title(\"Comparison of Different Normalization Methods\")\n",
    "plt.show()\n"
   ]
  },
  {
   "cell_type": "markdown",
   "id": "254745ca",
   "metadata": {},
   "source": [
    "Final Observation :\n",
    "    \n",
    "    Min-Max Scaling is ideal if all features need to be within the same \n",
    "    scale (e.g., neural networks).\n",
    "    \n",
    "    Z-Score Normalization is useful for detecting outliers in attributes \n",
    "    like Chol and MaxHR.\n",
    "    \n",
    "    Decimal Scaling is not as effective in this case, but it ensures \n",
    "    that values remain within a small decimal range."
   ]
  },
  {
   "cell_type": "markdown",
   "id": "05993c8d",
   "metadata": {},
   "source": [
    "# Final Conclusion:\n",
    "\n",
    "Feature selection and normalization improved data quality for machine learning models.\n",
    "\n",
    "Strong correlations were identified and redundant features were dropped to avoid multicollinearity.\n",
    "\n",
    "Heart rate tends to decline with age, confirming medical insights about cardiovascular health.\n",
    "\n",
    "The dataset indicates that individuals aged 50-60 are at higher risk, making it a key target group for healthcare interventions."
   ]
  },
  {
   "cell_type": "code",
   "execution_count": null,
   "id": "c4e374bd",
   "metadata": {},
   "outputs": [],
   "source": []
  }
 ],
 "metadata": {
  "kernelspec": {
   "display_name": "Python 3 (ipykernel)",
   "language": "python",
   "name": "python3"
  },
  "language_info": {
   "codemirror_mode": {
    "name": "ipython",
    "version": 3
   },
   "file_extension": ".py",
   "mimetype": "text/x-python",
   "name": "python",
   "nbconvert_exporter": "python",
   "pygments_lexer": "ipython3",
   "version": "3.9.13"
  }
 },
 "nbformat": 4,
 "nbformat_minor": 5
}
